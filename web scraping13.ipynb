{
 "cells": [
  {
   "cell_type": "code",
   "execution_count": 1,
   "id": "ad16a9c4",
   "metadata": {},
   "outputs": [
    {
     "name": "stderr",
     "output_type": "stream",
     "text": [
      "C:\\ProgramData\\Anaconda3\\lib\\site-packages\\bs4\\__init__.py:404: MarkupResemblesLocatorWarning: The input looks more like a URL than markup. You may want to use an HTTP client like requests to get the document behind the URL, and feed that document to Beautiful Soup.\n",
      "  warnings.warn(\n"
     ]
    },
    {
     "name": "stdout",
     "output_type": "stream",
     "text": [
      "<Response [200]>\n"
     ]
    }
   ],
   "source": [
    "\n",
    "from bs4 import BeautifulSoup\n",
    "import requests\n",
    "url=BeautifulSoup(\"https://www.pararius.com/apartments/amsterdam\",'html.parser')\n",
    "page=requests.get(url)\n",
    "print(page)\n"
   ]
  },
  {
   "cell_type": "code",
   "execution_count": null,
   "id": "ce59f91a",
   "metadata": {},
   "outputs": [],
   "source": []
  },
  {
   "cell_type": "code",
   "execution_count": 2,
   "id": "f2361204",
   "metadata": {},
   "outputs": [
    {
     "name": "stdout",
     "output_type": "stream",
     "text": [
      "Requirement already satisfied: html5lib in c:\\programdata\\anaconda3\\lib\\site-packages (1.1)\n",
      "Requirement already satisfied: six>=1.9 in c:\\programdata\\anaconda3\\lib\\site-packages (from html5lib) (1.16.0)\n",
      "Requirement already satisfied: webencodings in c:\\programdata\\anaconda3\\lib\\site-packages (from html5lib) (0.5.1)\n"
     ]
    }
   ],
   "source": [
    "!pip install html5lib"
   ]
  },
  {
   "cell_type": "code",
   "execution_count": 3,
   "id": "3dfc812c",
   "metadata": {},
   "outputs": [
    {
     "data": {
      "text/plain": [
       "<!DOCTYPE html>\n",
       "<html><head>\n",
       "\t\n",
       "\t<script defer=\"\" src=\"/cgi-bin/fl/static/fl.min.js?393cda3b\"></script>\n",
       "\t\n",
       "\t<style>\n",
       "\t@font-face {\n",
       "\t\tfont-family: 'Noto Serif';\n",
       "\t\tfont-style: normal;\n",
       "\t\tfont-weight: 400;\n",
       "\t\tsrc: url('https://static.fairlane.cloud/fonts/noto-serif-v21-latin-regular.eot'); /* IE9 Compat Modes */\n",
       "\t\tsrc: local(''),\n",
       "\t\t\turl('https://static.fairlane.cloud/fonts/noto-serif-v21-latin-regular.eot?#iefix') format('embedded-opentype'), /* IE6-IE8 */\n",
       "\t\t\turl('https://static.fairlane.cloud/fonts/noto-serif-v21-latin-regular.woff2') format('woff2'), /* Super Modern Browsers */\n",
       "\t\t\turl('https://static.fairlane.cloud/fonts/noto-serif-v21-latin-regular.woff') format('woff'), /* Modern Browsers */\n",
       "\t\t\turl('https://static.fairlane.cloud/fonts/noto-serif-v21-latin-regular.ttf') format('truetype'), /* Safari, Android, iOS */\n",
       "\t\t\turl('https://static.fairlane.cloud/fonts/noto-serif-v21-latin-regular.svg#NotoSerif') format('svg'); /* Legacy iOS */\n",
       "\t}\n",
       "\tbody{\n",
       "\t\tfont-family: 'Noto Serif', serif;\n",
       "\t\tbackground-color: #white;\n",
       "\t}\n",
       "\tnoscript {\n",
       "\t\tcolor: red;\n",
       "\t}\n",
       "\t.text-box{\n",
       "\t\tcolor: #black;\n",
       "\t\ttext-align: center;\n",
       "\t\ttext-decoration: none;\n",
       "\t\tdisplay: inline-block;\n",
       "\t\tfont-size: 12px;\n",
       "\t\tmargin: 4px 2px;\n",
       "\t\tcursor: pointer;\n",
       "\t\tdisplay: flex;\n",
       "\t\tflex-direction: column;\n",
       "\t\tjustify-content: center;\n",
       "\t\talign-items: center;\n",
       "\t}\n",
       "\n",
       "\t.container{\n",
       "\t\theight: 100%;\n",
       "\t\twidth: 40px;\n",
       "\t\tmargin: 20px auto;\n",
       "\t}\n",
       "\n",
       "\t.vc {\n",
       "\t\tposition: absolute;\n",
       "\t\ttop: 50%;\n",
       "\t\tleft: 50%;\n",
       "\t\t-moz-transform: translateX(-50%) translateY(-50%);\n",
       "\t\t-webkit-transform: translateX(-50%) translateY(-50%);\n",
       "\t\ttransform: translateX(-50%) translateY(-50%);}\n",
       "\t.box{\n",
       "\t\twidth: 15px;\n",
       "\t\theight: 15px;\n",
       "\t\tbackground-color: #123356;\n",
       "\t\tdisplay: inline-block;\n",
       "\t\tanimation: pulse 0.6s ease-in infinite alternate;\n",
       "\t}\n",
       "\t.box2, .box3{\n",
       "\t\tanimation-delay: 0.6s;\n",
       "\t}\n",
       "\n",
       "\t@Keyframes pulse{\n",
       "\t\t100%{\n",
       "\t\t\topacity: 0;\n",
       "\t\t}\n",
       "\t}\n",
       "\t@media only screen and (max-device-width: 480px) {\n",
       "\t.text-box{\n",
       "\t\tfont-size: 20px;\n",
       "\t}\n",
       "\tbutton {\n",
       "\t\tfont-size: 20px;\n",
       "\t}\n",
       "\t</style>\n",
       "\t<meta content=\"no-cache\" http-equiv=\"Cache-control\"/>\n",
       "\t<meta content=\"max-age=0\" http-equiv=\"cache-control\"/>\n",
       "\t<meta content=\"no-cache\" http-equiv=\"cache-control\"/>\n",
       "\t<meta content=\"-1\" http-equiv=\"expires\"/>\n",
       "\t<meta content=\"Tue, 01 Jan 1980 11:00:00 GMT\" http-equiv=\"expires\"/>\n",
       "\t<meta content=\"no-cache\" http-equiv=\"pragma\"/>\n",
       "</head>\n",
       "\n",
       "\t<body>\n",
       "\t<div class=\"vc\">\n",
       "\t\t<div class=\"text-box\">\n",
       "\t\t<img src=\"https://static.fairlane.cloud/FAIRLANE_LOGO_WOORD_DEF.png\" style=\"width:200px;\"/>\n",
       "\t\t<div class=\"container\">\n",
       "\t\t\t<div class=\"box box1\"></div>\n",
       "\t\t\t<div class=\"box box2\"></div>\n",
       "\t\t\t<div class=\"box box3\"></div>\n",
       "\t\t\t<div class=\"box box4\"></div>\n",
       "\t\t</div>\n",
       "\t\t\t<noscript>\n",
       "\t\t\t\t<h1> www.pararius.com requires JavaScript. Please enable JavaScript and refresh this page. </h1>\n",
       "\t\t\t</noscript>\n",
       "\n",
       "\t\t\t<h2>\n",
       "\t\t\tChecking your browser before accessing www.pararius.com.\n",
       "\t\t\t</h2>\n",
       "\t\t\t<h3>\n",
       "\t\t\t\tThis process is automatic. Your browser will redirect to your requested content shortly.\n",
       "\t\t\t\tPlease allow up to 5 secondsâ€¦\n",
       "\t\t\t</h3>\n",
       "\n",
       "\t\t</div>\n",
       "\t\t<noscript>\n",
       "\t\t\t\t<h1> This page requires JavaScript. Please enable JavaScript and refresh this page. </h1>\n",
       "\t\t</noscript>\n",
       "\t</div>\n",
       "\t\n",
       "\t<script>\n",
       "\tif(!navigator.cookieEnabled) {\n",
       "\t\tdocument.getElementsByClassName(\"text-box\")[0].innerHTML += `<h3 style='color: red;'> Please enable cookies and refresh this page. </h3>`\n",
       "\t}\n",
       "\t</script>\n",
       "\n",
       "</body></html>"
      ]
     },
     "execution_count": 3,
     "metadata": {},
     "output_type": "execute_result"
    }
   ],
   "source": [
    "soup=BeautifulSoup(page.content, \"html5lib\")\n",
    "soup"
   ]
  },
  {
   "cell_type": "code",
   "execution_count": 4,
   "id": "32240e1c",
   "metadata": {},
   "outputs": [
    {
     "data": {
      "text/plain": [
       "[<body>\n",
       " \t<div class=\"vc\">\n",
       " \t\t<div class=\"text-box\">\n",
       " \t\t<img src=\"https://static.fairlane.cloud/FAIRLANE_LOGO_WOORD_DEF.png\" style=\"width:200px;\"/>\n",
       " \t\t<div class=\"container\">\n",
       " \t\t\t<div class=\"box box1\"></div>\n",
       " \t\t\t<div class=\"box box2\"></div>\n",
       " \t\t\t<div class=\"box box3\"></div>\n",
       " \t\t\t<div class=\"box box4\"></div>\n",
       " \t\t</div>\n",
       " \t\t\t<noscript>\n",
       " \t\t\t\t<h1> www.pararius.com requires JavaScript. Please enable JavaScript and refresh this page. </h1>\n",
       " \t\t\t</noscript>\n",
       " \n",
       " \t\t\t<h2>\n",
       " \t\t\tChecking your browser before accessing www.pararius.com.\n",
       " \t\t\t</h2>\n",
       " \t\t\t<h3>\n",
       " \t\t\t\tThis process is automatic. Your browser will redirect to your requested content shortly.\n",
       " \t\t\t\tPlease allow up to 5 secondsâ€¦\n",
       " \t\t\t</h3>\n",
       " \n",
       " \t\t</div>\n",
       " \t\t<noscript>\n",
       " \t\t\t\t<h1> This page requires JavaScript. Please enable JavaScript and refresh this page. </h1>\n",
       " \t\t</noscript>\n",
       " \t</div>\n",
       " \t\n",
       " \t<script>\n",
       " \tif(!navigator.cookieEnabled) {\n",
       " \t\tdocument.getElementsByClassName(\"text-box\")[0].innerHTML += `<h3 style='color: red;'> Please enable cookies and refresh this page. </h3>`\n",
       " \t}\n",
       " \t</script>\n",
       " \n",
       " </body>]"
      ]
     },
     "execution_count": 4,
     "metadata": {},
     "output_type": "execute_result"
    }
   ],
   "source": [
    "raw_list=soup.find_all('body')\n",
    "raw_list\n"
   ]
  },
  {
   "cell_type": "code",
   "execution_count": 5,
   "id": "f1188fc5",
   "metadata": {},
   "outputs": [
    {
     "data": {
      "text/plain": [
       "<div class=\"container\">\n",
       "\t\t\t<div class=\"box box1\"></div>\n",
       "\t\t\t<div class=\"box box2\"></div>\n",
       "\t\t\t<div class=\"box box3\"></div>\n",
       "\t\t\t<div class=\"box box4\"></div>\n",
       "\t\t</div>"
      ]
     },
     "execution_count": 5,
     "metadata": {},
     "output_type": "execute_result"
    }
   ],
   "source": [
    "page_result=soup.find('div',class_=\"container\")\n",
    "page_result"
   ]
  },
  {
   "cell_type": "code",
   "execution_count": null,
   "id": "c4ad2e0d",
   "metadata": {},
   "outputs": [],
   "source": []
  },
  {
   "cell_type": "code",
   "execution_count": 6,
   "id": "b72c5713",
   "metadata": {},
   "outputs": [
    {
     "data": {
      "text/plain": [
       "[<div class=\"vc\">\n",
       " \t\t<div class=\"text-box\">\n",
       " \t\t<img src=\"https://static.fairlane.cloud/FAIRLANE_LOGO_WOORD_DEF.png\" style=\"width:200px;\"/>\n",
       " \t\t<div class=\"container\">\n",
       " \t\t\t<div class=\"box box1\"></div>\n",
       " \t\t\t<div class=\"box box2\"></div>\n",
       " \t\t\t<div class=\"box box3\"></div>\n",
       " \t\t\t<div class=\"box box4\"></div>\n",
       " \t\t</div>\n",
       " \t\t\t<noscript>\n",
       " \t\t\t\t<h1> www.pararius.com requires JavaScript. Please enable JavaScript and refresh this page. </h1>\n",
       " \t\t\t</noscript>\n",
       " \n",
       " \t\t\t<h2>\n",
       " \t\t\tChecking your browser before accessing www.pararius.com.\n",
       " \t\t\t</h2>\n",
       " \t\t\t<h3>\n",
       " \t\t\t\tThis process is automatic. Your browser will redirect to your requested content shortly.\n",
       " \t\t\t\tPlease allow up to 5 secondsâ€¦\n",
       " \t\t\t</h3>\n",
       " \n",
       " \t\t</div>\n",
       " \t\t<noscript>\n",
       " \t\t\t\t<h1> This page requires JavaScript. Please enable JavaScript and refresh this page. </h1>\n",
       " \t\t</noscript>\n",
       " \t</div>,\n",
       " <div class=\"text-box\">\n",
       " \t\t<img src=\"https://static.fairlane.cloud/FAIRLANE_LOGO_WOORD_DEF.png\" style=\"width:200px;\"/>\n",
       " \t\t<div class=\"container\">\n",
       " \t\t\t<div class=\"box box1\"></div>\n",
       " \t\t\t<div class=\"box box2\"></div>\n",
       " \t\t\t<div class=\"box box3\"></div>\n",
       " \t\t\t<div class=\"box box4\"></div>\n",
       " \t\t</div>\n",
       " \t\t\t<noscript>\n",
       " \t\t\t\t<h1> www.pararius.com requires JavaScript. Please enable JavaScript and refresh this page. </h1>\n",
       " \t\t\t</noscript>\n",
       " \n",
       " \t\t\t<h2>\n",
       " \t\t\tChecking your browser before accessing www.pararius.com.\n",
       " \t\t\t</h2>\n",
       " \t\t\t<h3>\n",
       " \t\t\t\tThis process is automatic. Your browser will redirect to your requested content shortly.\n",
       " \t\t\t\tPlease allow up to 5 secondsâ€¦\n",
       " \t\t\t</h3>\n",
       " \n",
       " \t\t</div>,\n",
       " <div class=\"container\">\n",
       " \t\t\t<div class=\"box box1\"></div>\n",
       " \t\t\t<div class=\"box box2\"></div>\n",
       " \t\t\t<div class=\"box box3\"></div>\n",
       " \t\t\t<div class=\"box box4\"></div>\n",
       " \t\t</div>,\n",
       " <div class=\"box box1\"></div>,\n",
       " <div class=\"box box2\"></div>,\n",
       " <div class=\"box box3\"></div>,\n",
       " <div class=\"box box4\"></div>]"
      ]
     },
     "execution_count": 6,
     "metadata": {},
     "output_type": "execute_result"
    }
   ],
   "source": [
    "raw_div=soup.find_all('div')\n",
    "raw_div"
   ]
  },
  {
   "cell_type": "code",
   "execution_count": 7,
   "id": "d83bcd8f",
   "metadata": {},
   "outputs": [
    {
     "data": {
      "text/plain": [
       "[]"
      ]
     },
     "execution_count": 7,
     "metadata": {},
     "output_type": "execute_result"
    }
   ],
   "source": [
    "section=soup.find_all('section')\n",
    "section"
   ]
  },
  {
   "cell_type": "code",
   "execution_count": 8,
   "id": "058bcff6",
   "metadata": {},
   "outputs": [
    {
     "data": {
      "text/plain": [
       "[<body>\n",
       " \t<div class=\"vc\">\n",
       " \t\t<div class=\"text-box\">\n",
       " \t\t<img src=\"https://static.fairlane.cloud/FAIRLANE_LOGO_WOORD_DEF.png\" style=\"width:200px;\"/>\n",
       " \t\t<div class=\"container\">\n",
       " \t\t\t<div class=\"box box1\"></div>\n",
       " \t\t\t<div class=\"box box2\"></div>\n",
       " \t\t\t<div class=\"box box3\"></div>\n",
       " \t\t\t<div class=\"box box4\"></div>\n",
       " \t\t</div>\n",
       " \t\t\t<noscript>\n",
       " \t\t\t\t<h1> www.pararius.com requires JavaScript. Please enable JavaScript and refresh this page. </h1>\n",
       " \t\t\t</noscript>\n",
       " \n",
       " \t\t\t<h2>\n",
       " \t\t\tChecking your browser before accessing www.pararius.com.\n",
       " \t\t\t</h2>\n",
       " \t\t\t<h3>\n",
       " \t\t\t\tThis process is automatic. Your browser will redirect to your requested content shortly.\n",
       " \t\t\t\tPlease allow up to 5 secondsâ€¦\n",
       " \t\t\t</h3>\n",
       " \n",
       " \t\t</div>\n",
       " \t\t<noscript>\n",
       " \t\t\t\t<h1> This page requires JavaScript. Please enable JavaScript and refresh this page. </h1>\n",
       " \t\t</noscript>\n",
       " \t</div>\n",
       " \t\n",
       " \t<script>\n",
       " \tif(!navigator.cookieEnabled) {\n",
       " \t\tdocument.getElementsByClassName(\"text-box\")[0].innerHTML += `<h3 style='color: red;'> Please enable cookies and refresh this page. </h3>`\n",
       " \t}\n",
       " \t</script>\n",
       " \n",
       " </body>]"
      ]
     },
     "execution_count": 8,
     "metadata": {},
     "output_type": "execute_result"
    }
   ],
   "source": [
    "raw_list=soup.find_all('body')\n",
    "raw_list"
   ]
  },
  {
   "cell_type": "code",
   "execution_count": 9,
   "id": "607053eb",
   "metadata": {},
   "outputs": [
    {
     "data": {
      "text/plain": [
       "[]"
      ]
     },
     "execution_count": 9,
     "metadata": {},
     "output_type": "execute_result"
    }
   ],
   "source": [
    "lists=soup.find_all('section',class_=\"listing-search-item listing-search-item--list listing-search-item--for-rent\")\n",
    "lists"
   ]
  },
  {
   "cell_type": "code",
   "execution_count": 10,
   "id": "429024dc",
   "metadata": {},
   "outputs": [],
   "source": [
    "import csv\n",
    "\n",
    "with open ('housing.csv',\"w\",encoding='utf8',newline='')as f:\n",
    "    thewriter =csv.writer(f)\n",
    "    header=['Title','Location','Price','Area']\n",
    "    thewriter.writerow(header)\n",
    "    for list in lists:\n",
    "        title=list.find('a',class_=\"listing-search-item__link--title\").text.replace(\"\\n\",\" \")\n",
    "        location=list.find('div',class_=\"listing-search-item__sub-title\").text.replace(\"\\n\",\"\")\n",
    "        price=list.find('div',class_=\"listing-search-item__price\").text.replace(\"\\n\",\"\")\n",
    "        area=list.find('li',class_=\"illustrated-features__item--surface-area\").text.replace(\"\\n\",\"\")\n",
    "\n",
    "        info=[title,location,price,area]\n",
    "        thewriter.writerow(info)\n",
    "\n",
    "    \n",
    "    "
   ]
  },
  {
   "cell_type": "code",
   "execution_count": null,
   "id": "f05b042d",
   "metadata": {},
   "outputs": [],
   "source": []
  }
 ],
 "metadata": {
  "kernelspec": {
   "display_name": "Python 3 (ipykernel)",
   "language": "python",
   "name": "python3"
  },
  "language_info": {
   "codemirror_mode": {
    "name": "ipython",
    "version": 3
   },
   "file_extension": ".py",
   "mimetype": "text/x-python",
   "name": "python",
   "nbconvert_exporter": "python",
   "pygments_lexer": "ipython3",
   "version": "3.9.13"
  }
 },
 "nbformat": 4,
 "nbformat_minor": 5
}
