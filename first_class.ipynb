{
 "cells": [
  {
   "cell_type": "code",
   "execution_count": 5,
   "id": "a1f06d03",
   "metadata": {},
   "outputs": [],
   "source": [
    "a = 10\n",
    "b = 11.5\n",
    "c = 'Hello World'\n",
    "d = True"
   ]
  },
  {
   "cell_type": "code",
   "execution_count": 7,
   "id": "d02bb5f2",
   "metadata": {},
   "outputs": [
    {
     "name": "stdout",
     "output_type": "stream",
     "text": [
      "10\n",
      "11.5\n",
      "Hello World\n",
      "True\n",
      "10 11.5 Hello World True\n"
     ]
    }
   ],
   "source": [
    "print(a)\n",
    "print(b)\n",
    "print(c)\n",
    "print(d)\n",
    "\n",
    "print(a,b,c,d)"
   ]
  },
  {
   "cell_type": "code",
   "execution_count": 10,
   "id": "d25a4701",
   "metadata": {},
   "outputs": [
    {
     "name": "stdout",
     "output_type": "stream",
     "text": [
      "<class 'int'>\n",
      "<class 'float'>\n",
      "<class 'str'>\n",
      "<class 'bool'>\n"
     ]
    }
   ],
   "source": [
    "print(type(a))\n",
    "print(type(b))\n",
    "print(type(c))\n",
    "print(type(d))"
   ]
  },
  {
   "cell_type": "code",
   "execution_count": 12,
   "id": "2d3f640c",
   "metadata": {},
   "outputs": [],
   "source": [
    "# + - * / % ** //"
   ]
  },
  {
   "cell_type": "code",
   "execution_count": 22,
   "id": "ec07fcd1",
   "metadata": {},
   "outputs": [
    {
     "name": "stdout",
     "output_type": "stream",
     "text": [
      "1\n"
     ]
    }
   ],
   "source": [
    "a = 10\n",
    "b = 3\n",
    "c = a % b\n",
    "print(c)"
   ]
  },
  {
   "cell_type": "code",
   "execution_count": 24,
   "id": "11346fe5",
   "metadata": {},
   "outputs": [
    {
     "name": "stdout",
     "output_type": "stream",
     "text": [
      "100\n"
     ]
    }
   ],
   "source": [
    "a = 10\n",
    "b = 2\n",
    "c = a ** b\n",
    "print(c)"
   ]
  },
  {
   "cell_type": "code",
   "execution_count": 25,
   "id": "d640da6e",
   "metadata": {},
   "outputs": [
    {
     "name": "stdout",
     "output_type": "stream",
     "text": [
      "3\n"
     ]
    }
   ],
   "source": [
    "a = 10\n",
    "b = 3\n",
    "c = a // b\n",
    "print(c)"
   ]
  },
  {
   "cell_type": "code",
   "execution_count": 26,
   "id": "69010c3a",
   "metadata": {},
   "outputs": [
    {
     "name": "stdout",
     "output_type": "stream",
     "text": [
      "103\n"
     ]
    }
   ],
   "source": [
    "a = '10'\n",
    "b = '3'\n",
    "print(a+b)"
   ]
  },
  {
   "cell_type": "code",
   "execution_count": 34,
   "id": "41b225cb",
   "metadata": {},
   "outputs": [
    {
     "name": "stdout",
     "output_type": "stream",
     "text": [
      "Hello World\n"
     ]
    }
   ],
   "source": [
    "a = \"Hello\"\n",
    "b = \" World\"\n",
    "c = a+b\n",
    "print(c)"
   ]
  },
  {
   "cell_type": "code",
   "execution_count": 32,
   "id": "4ae3dcc8",
   "metadata": {},
   "outputs": [
    {
     "name": "stdout",
     "output_type": "stream",
     "text": [
      "Hello World\n",
      "Hello World\n",
      "\n"
     ]
    }
   ],
   "source": [
    "a = \"Hello World\\n\"\n",
    "print(a*2)"
   ]
  },
  {
   "cell_type": "code",
   "execution_count": 38,
   "id": "0ee5e708",
   "metadata": {},
   "outputs": [
    {
     "data": {
      "text/plain": [
       "'Messi 10'"
      ]
     },
     "execution_count": 38,
     "metadata": {},
     "output_type": "execute_result"
    }
   ],
   "source": [
    "a = \"Messi \"\n",
    "b = '10'\n",
    "c = a+b\n",
    "c"
   ]
  },
  {
   "cell_type": "code",
   "execution_count": 39,
   "id": "8b906f02",
   "metadata": {},
   "outputs": [
    {
     "name": "stdout",
     "output_type": "stream",
     "text": [
      "1\n"
     ]
    }
   ],
   "source": [
    "a = True\n",
    "b = False\n",
    "c = a+b\n",
    "print(c)"
   ]
  },
  {
   "cell_type": "code",
   "execution_count": 40,
   "id": "7db9c6df",
   "metadata": {},
   "outputs": [
    {
     "name": "stdout",
     "output_type": "stream",
     "text": [
      "2\n"
     ]
    }
   ],
   "source": [
    "a = True\n",
    "b = True\n",
    "c = a+b\n",
    "print(c)"
   ]
  },
  {
   "cell_type": "code",
   "execution_count": 41,
   "id": "96021db0",
   "metadata": {},
   "outputs": [
    {
     "data": {
      "text/plain": [
       "(1+2j)"
      ]
     },
     "execution_count": 41,
     "metadata": {},
     "output_type": "execute_result"
    }
   ],
   "source": [
    "a = 1+2j\n",
    "a"
   ]
  },
  {
   "cell_type": "code",
   "execution_count": 45,
   "id": "6e3192df",
   "metadata": {},
   "outputs": [
    {
     "data": {
      "text/plain": [
       "(-1+0j)"
      ]
     },
     "execution_count": 45,
     "metadata": {},
     "output_type": "execute_result"
    }
   ],
   "source": [
    "(0+1j)*(0+1j)"
   ]
  },
  {
   "cell_type": "code",
   "execution_count": 48,
   "id": "d488dfd3",
   "metadata": {},
   "outputs": [
    {
     "data": {
      "text/plain": [
       "'10'"
      ]
     },
     "execution_count": 48,
     "metadata": {},
     "output_type": "execute_result"
    }
   ],
   "source": [
    "# Type casting\n",
    "# str() int() float()\n",
    "a = 10\n",
    "b = str(a)\n",
    "b\n"
   ]
  },
  {
   "cell_type": "code",
   "execution_count": 49,
   "id": "1409c6ed",
   "metadata": {},
   "outputs": [
    {
     "data": {
      "text/plain": [
       "20"
      ]
     },
     "execution_count": 49,
     "metadata": {},
     "output_type": "execute_result"
    }
   ],
   "source": [
    "a = '20'\n",
    "int(a)"
   ]
  },
  {
   "cell_type": "code",
   "execution_count": 50,
   "id": "5c487359",
   "metadata": {},
   "outputs": [
    {
     "data": {
      "text/plain": [
       "20.5"
      ]
     },
     "execution_count": 50,
     "metadata": {},
     "output_type": "execute_result"
    }
   ],
   "source": [
    "a = '20.5'\n",
    "float(a)"
   ]
  },
  {
   "cell_type": "code",
   "execution_count": null,
   "id": "31ad6c90",
   "metadata": {},
   "outputs": [],
   "source": []
  },
  {
   "cell_type": "code",
   "execution_count": 52,
   "id": "dc4703cd",
   "metadata": {},
   "outputs": [],
   "source": [
    "# basic i/o"
   ]
  },
  {
   "cell_type": "code",
   "execution_count": 55,
   "id": "3066b222",
   "metadata": {},
   "outputs": [
    {
     "name": "stdout",
     "output_type": "stream",
     "text": [
      "ads\n",
      "ads\n"
     ]
    }
   ],
   "source": [
    "a = input()\n",
    "print(a)"
   ]
  },
  {
   "cell_type": "code",
   "execution_count": null,
   "id": "2d08f07d",
   "metadata": {},
   "outputs": [],
   "source": [
    "a = input(\"Enter a = \")\n",
    "print(a)"
   ]
  },
  {
   "cell_type": "code",
   "execution_count": 1,
   "id": "ca077e6f",
   "metadata": {},
   "outputs": [
    {
     "name": "stdout",
     "output_type": "stream",
     "text": [
      "Enter a = 10\n",
      "Enter b = 20\n",
      "1020\n"
     ]
    }
   ],
   "source": [
    "a = input(\"Enter a = \")\n",
    "b = input(\"Enter b = \")\n",
    "print(a+b)"
   ]
  },
  {
   "cell_type": "code",
   "execution_count": 2,
   "id": "d4b0cc58",
   "metadata": {},
   "outputs": [
    {
     "name": "stdout",
     "output_type": "stream",
     "text": [
      "Enter a = 10\n",
      "Enter b = 20\n",
      "30\n"
     ]
    }
   ],
   "source": [
    "a = int(input(\"Enter a = \"))\n",
    "b = int(input(\"Enter b = \"))\n",
    "print(a+b)"
   ]
  },
  {
   "cell_type": "code",
   "execution_count": 3,
   "id": "c0481452",
   "metadata": {},
   "outputs": [
    {
     "name": "stdout",
     "output_type": "stream",
     "text": [
      "Enter p = 10000\n",
      "Enter t = 3.5\n",
      "Enter r = 10.4\n",
      "The value of i =  3640.0\n"
     ]
    }
   ],
   "source": [
    "p = int(input(\"Enter p = \"))\n",
    "t = float(input(\"Enter t = \"))\n",
    "r = float(input(\"Enter r = \"))\n",
    "i = p*t*r/100\n",
    "print(\"The value of i = \",i)"
   ]
  },
  {
   "cell_type": "code",
   "execution_count": 1,
   "id": "12393e45",
   "metadata": {},
   "outputs": [],
   "source": [
    "# functions\n",
    "#predefined \n",
    "#user-defined functions\n"
   ]
  },
  {
   "cell_type": "code",
   "execution_count": 3,
   "id": "7a408f4c",
   "metadata": {},
   "outputs": [],
   "source": [
    "#user-defined functions\n",
    "#def<funtion_name>():\n",
    "#   <operations>\n",
    "#function_name()"
   ]
  },
  {
   "cell_type": "code",
   "execution_count": null,
   "id": "83132280",
   "metadata": {},
   "outputs": [],
   "source": [
    "def cal():\n",
    "    l=int(input(\"enter the value of l :\")) #local varable\n",
    "    b=int(input(\"enter the value of b :\"))\n",
    "    a=l*b\n",
    "    print(a)\n",
    "cal()    \n",
    "    "
   ]
  },
  {
   "cell_type": "code",
   "execution_count": null,
   "id": "c60446d6",
   "metadata": {},
   "outputs": [],
   "source": [
    "def cal():\n",
    "    a=l*b\n",
    "    print(a)\n",
    "l=int(input(\"enter the value of l :\")) #global variable\n",
    "b=int(input(\"enter the value of b :\"))    \n",
    "cal()    "
   ]
  },
  {
   "cell_type": "code",
   "execution_count": null,
   "id": "beb2e9dc",
   "metadata": {},
   "outputs": [],
   "source": [
    "# argument return type\n",
    "#function without argument and no return type\n",
    "#function without argument and  return type\n",
    "#function with argument and no return type\n",
    "#function with argument and return type\n",
    "\n"
   ]
  },
  {
   "cell_type": "code",
   "execution_count": null,
   "id": "bcc1a1a5",
   "metadata": {},
   "outputs": [],
   "source": [
    "#function with argument and no return type\n",
    "\n",
    "def cal(l,b):  #parameter\n",
    "    a=l*b\n",
    "    print(a)\n",
    "l=int(input(\"enter the value of l :\")) #global variable\n",
    "b=int(input(\"enter the value of b :\"))    \n",
    "cal(l,b) #arguments   "
   ]
  },
  {
   "cell_type": "code",
   "execution_count": 2,
   "id": "53dda907",
   "metadata": {},
   "outputs": [
    {
     "name": "stdout",
     "output_type": "stream",
     "text": [
      "enter the value of l :2\n",
      "enter the value of b :2\n",
      "enter the value of h :2\n",
      "8\n",
      "4\n"
     ]
    }
   ],
   "source": [
    "#function with argument and no return type\n",
    "\n",
    "def area(l,b):  #parameter\n",
    "    a=l*b\n",
    "    print(a)\n",
    "def volume(l,b,h) :\n",
    "    v=l*b*h\n",
    "    print(v)\n",
    "    \n",
    "l=int(input(\"enter the value of l :\")) #global variable\n",
    "b=int(input(\"enter the value of b :\")) \n",
    "h=int(input(\"enter the value of h :\")) #global variable\n",
    "\n",
    "volume(l,b,h)\n",
    "area(l,b)#arguments   "
   ]
  },
  {
   "cell_type": "code",
   "execution_count": 5,
   "id": "f17e91d4",
   "metadata": {},
   "outputs": [
    {
     "name": "stdout",
     "output_type": "stream",
     "text": [
      "c\n",
      "c++\n",
      "java\n",
      "c\n",
      "python\n"
     ]
    }
   ],
   "source": [
    "#function with argument and no return type\n",
    "\n",
    "def langauge(lan = \"python\"):\n",
    "    print(lan)\n",
    "langauge(\"c\") \n",
    "langauge(\"c++\")    \n",
    "langauge(\"java\")    \n",
    "langauge(\"c\")\n",
    "langauge()  \n"
   ]
  },
  {
   "cell_type": "code",
   "execution_count": 3,
   "id": "b2a8d02c",
   "metadata": {},
   "outputs": [
    {
     "data": {
      "text/plain": [
       "'Hello'"
      ]
     },
     "execution_count": 3,
     "metadata": {},
     "output_type": "execute_result"
    }
   ],
   "source": [
    "# return type function\n",
    "\n",
    "def hello():\n",
    "    return\"Hello\"\n",
    "hello()"
   ]
  },
  {
   "cell_type": "code",
   "execution_count": 7,
   "id": "707a7b40",
   "metadata": {},
   "outputs": [
    {
     "name": "stdout",
     "output_type": "stream",
     "text": [
      "David Bhandari\n"
     ]
    }
   ],
   "source": [
    "def hello():\n",
    "    return\"David\"\n",
    "x = hello()\n",
    "print(x+\" Bhandari\")"
   ]
  },
  {
   "cell_type": "code",
   "execution_count": 1,
   "id": "33d0d880",
   "metadata": {},
   "outputs": [
    {
     "name": "stdout",
     "output_type": "stream",
     "text": [
      "enter the value of l :2\n",
      "enter the value of b :2\n",
      "enter the value of h :2\n",
      "volume is v= : 8\n"
     ]
    }
   ],
   "source": [
    "#function with argument and return type\n",
    "def area(x,y):  #parameter\n",
    "    a=x*y\n",
    "    return a\n",
    "    \n",
    "l=int(input(\"enter the value of l :\")) #global variable\n",
    "b=int(input(\"enter the value of b :\")) \n",
    "h=int(input(\"enter the value of h :\")) #global variable\n",
    "\n",
    "ar = area(l,b)\n",
    "v = ar*h\n",
    "print(\"volume is v= :\",v)"
   ]
  },
  {
   "cell_type": "code",
   "execution_count": null,
   "id": "6f985426",
   "metadata": {},
   "outputs": [],
   "source": [
    "def area(x,y):  #parameter\n",
    "    a=x*y\n",
    "    return a\n",
    "    \n",
    "l=int(input(\"enter the value of l :\")) #global variable\n",
    "b=int(input(\"enter the value of b :\")) \n",
    "h=int(input(\"enter the value of h :\")) #global variable\n",
    "\n",
    "ar = area(l,b)\n",
    "v = ar*h\n",
    "print(\"volume is v= :\",v)"
   ]
  },
  {
   "cell_type": "code",
   "execution_count": null,
   "id": "4d976100",
   "metadata": {},
   "outputs": [],
   "source": [
    "def cal(x,y,z):  #parameter\n",
    "    a=x*y\n",
    "    v=a*z\n",
    "    return a,v\n",
    "    \n",
    "l=int(input(\"enter the value of l :\")) #global variable\n",
    "b=int(input(\"enter the value of b :\")) \n",
    "h=int(input(\"enter the value of h :\")) #global variable\n",
    "\n",
    "av=cal(l,b,h)\n",
    "print(av)\n"
   ]
  },
  {
   "cell_type": "code",
   "execution_count": null,
   "id": "60e986e4",
   "metadata": {},
   "outputs": [],
   "source": [
    "area,volume=av\n",
    "print(area,volume)"
   ]
  },
  {
   "cell_type": "code",
   "execution_count": 1,
   "id": "4b76dcef",
   "metadata": {},
   "outputs": [
    {
     "name": "stdout",
     "output_type": "stream",
     "text": [
      "(10, 20, 30)\n"
     ]
    }
   ],
   "source": [
    "a=(10,20,30)\n",
    "print(a)"
   ]
  },
  {
   "cell_type": "code",
   "execution_count": null,
   "id": "c07ccaa4",
   "metadata": {},
   "outputs": [],
   "source": [
    "def hello():\n",
    "    print(\"hello\")\n",
    "    hello()\n",
    "    \n",
    "hello()    "
   ]
  },
  {
   "cell_type": "code",
   "execution_count": null,
   "id": "8cd539e3",
   "metadata": {},
   "outputs": [],
   "source": [
    "def cal():\n",
    "    p=int(input(\"enter the value of p=\"))\n",
    "    t=int(input(\"enter the value of t=\"))\n",
    "    r=int(input(\"enter the value of r=\"))\n",
    "    i=p*t*r/100\n",
    "    print(i)\n",
    "    x = input(\"press enter for more cal\")\n",
    "    if x== \"\":\n",
    "        cal()\n",
    "cal()        "
   ]
  },
  {
   "cell_type": "code",
   "execution_count": 1,
   "id": "931510e4",
   "metadata": {},
   "outputs": [
    {
     "ename": "SyntaxError",
     "evalue": "invalid syntax (2258122390.py, line 1)",
     "output_type": "error",
     "traceback": [
      "\u001b[1;36m  File \u001b[1;32m\"C:\\Users\\Administrator\\AppData\\Local\\Temp\\ipykernel_4724\\2258122390.py\"\u001b[1;36m, line \u001b[1;32m1\u001b[0m\n\u001b[1;33m    हस्पीटल को वेडवाट कस्लाइ धम्की दिएको कमरेड\u001b[0m\n\u001b[1;37m            ^\u001b[0m\n\u001b[1;31mSyntaxError\u001b[0m\u001b[1;31m:\u001b[0m invalid syntax\n"
     ]
    }
   ],
   "source": [
    "हस्पीटल को वेडवाट कस्लाइ धम्की दिएको कमरेड\n"
   ]
  },
  {
   "cell_type": "code",
   "execution_count": 6,
   "id": "ca0297cb",
   "metadata": {},
   "outputs": [
    {
     "name": "stdout",
     "output_type": "stream",
     "text": [
      "Hello World Hello World Hello World\n",
      "H\n",
      "He\n",
      "el\n",
      "ll\n",
      "lo\n",
      "o \n",
      " W\n",
      "Wo\n",
      "or\n",
      "rl\n",
      "ld\n",
      "d"
     ]
    }
   ],
   "source": [
    "#string\n",
    "a=\"Hello World\"\n",
    "b='Hello World'\n",
    "c='''Hello World'''\n",
    "print(a,b,c)\n",
    "for i in a:\n",
    "    print(i)\n"
   ]
  },
  {
   "cell_type": "code",
   "execution_count": 8,
   "id": "7cd0b672",
   "metadata": {},
   "outputs": [
    {
     "name": "stdout",
     "output_type": "stream",
     "text": [
      "d"
     ]
    }
   ],
   "source": [
    " print(i,end  =\"\")"
   ]
  },
  {
   "cell_type": "code",
   "execution_count": 11,
   "id": "522c9f38",
   "metadata": {},
   "outputs": [
    {
     "data": {
      "text/plain": [
       "'H'"
      ]
     },
     "execution_count": 11,
     "metadata": {},
     "output_type": "execute_result"
    }
   ],
   "source": [
    "a= \"Hello World\"\n",
    "a[0]\n"
   ]
  },
  {
   "cell_type": "code",
   "execution_count": 13,
   "id": "84a666ed",
   "metadata": {},
   "outputs": [
    {
     "data": {
      "text/plain": [
       "'Hello Wo'"
      ]
     },
     "execution_count": 13,
     "metadata": {},
     "output_type": "execute_result"
    }
   ],
   "source": [
    "a[0:8]"
   ]
  },
  {
   "cell_type": "code",
   "execution_count": 17,
   "id": "5c232fe9",
   "metadata": {},
   "outputs": [
    {
     "data": {
      "text/plain": [
       "'HloW'"
      ]
     },
     "execution_count": 17,
     "metadata": {},
     "output_type": "execute_result"
    }
   ],
   "source": [
    "a[0:8:2]"
   ]
  },
  {
   "cell_type": "code",
   "execution_count": 19,
   "id": "c13fdf33",
   "metadata": {},
   "outputs": [
    {
     "data": {
      "text/plain": [
       "11"
      ]
     },
     "execution_count": 19,
     "metadata": {},
     "output_type": "execute_result"
    }
   ],
   "source": [
    "a= \"Hello World\"\n",
    "a=len(a)\n",
    "a"
   ]
  },
  {
   "cell_type": "code",
   "execution_count": 4,
   "id": "e3e6930f",
   "metadata": {},
   "outputs": [
    {
     "name": "stdout",
     "output_type": "stream",
     "text": [
      "the number is pallandrome:\n",
      "252\n"
     ]
    }
   ],
   "source": [
    "a=\"252\"\n",
    "if a==a[-1::-1]:\n",
    "    print(\"the number is pallandrome:\")\n",
    "else:\n",
    "    print(\"Not\")\n",
    "print(a[-1::-1])    "
   ]
  },
  {
   "cell_type": "code",
   "execution_count": 8,
   "id": "2caeac1a",
   "metadata": {},
   "outputs": [],
   "source": [
    "name= \"Ram\"\n",
    "age= 23\n",
    "add= \"Kathmandu\"\n",
    "info = \"Hello World I am \"+name+\" from \"+add+\" i am of age \"+str(age)\n",
    "+"
   ]
  },
  {
   "cell_type": "code",
   "execution_count": 1,
   "id": "0b4402af",
   "metadata": {},
   "outputs": [
    {
     "name": "stdout",
     "output_type": "stream",
     "text": [
      "Enter the number of product:2\n",
      "Enter the name of product:da\n",
      "Enter the price of product:200\n",
      "Enter quantity of product:2\n"
     ]
    },
    {
     "ename": "NameError",
     "evalue": "name 'bill' is not defined",
     "output_type": "error",
     "traceback": [
      "\u001b[1;31m---------------------------------------------------------------------------\u001b[0m",
      "\u001b[1;31mNameError\u001b[0m                                 Traceback (most recent call last)",
      "\u001b[1;32m~\\AppData\\Local\\Temp\\ipykernel_3960\\519566757.py\u001b[0m in \u001b[0;36m<module>\u001b[1;34m\u001b[0m\n\u001b[0;32m      6\u001b[0m     \u001b[0mquantity\u001b[0m\u001b[1;33m=\u001b[0m\u001b[0mint\u001b[0m\u001b[1;33m(\u001b[0m\u001b[0minput\u001b[0m\u001b[1;33m(\u001b[0m\u001b[1;34m\"Enter quantity of product:\"\u001b[0m\u001b[1;33m)\u001b[0m\u001b[1;33m)\u001b[0m\u001b[1;33m\u001b[0m\u001b[1;33m\u001b[0m\u001b[0m\n\u001b[0;32m      7\u001b[0m     \u001b[0mtotal\u001b[0m\u001b[1;33m=\u001b[0m\u001b[0mprice\u001b[0m\u001b[1;33m*\u001b[0m\u001b[0mquantity\u001b[0m\u001b[1;33m\u001b[0m\u001b[1;33m\u001b[0m\u001b[0m\n\u001b[1;32m----> 8\u001b[1;33m     \u001b[0mbill\u001b[0m\u001b[1;33m=\u001b[0m\u001b[0mbill\u001b[0m\u001b[1;33m+\u001b[0m\u001b[1;34mf\"{name} {price} {quantity} {total}\\n\"\u001b[0m\u001b[1;33m\u001b[0m\u001b[1;33m\u001b[0m\u001b[0m\n\u001b[0m\u001b[0;32m      9\u001b[0m     \u001b[0ms\u001b[0m\u001b[1;33m=\u001b[0m\u001b[0ms\u001b[0m\u001b[1;33m+\u001b[0m\u001b[0mtotal\u001b[0m\u001b[1;33m\u001b[0m\u001b[1;33m\u001b[0m\u001b[0m\n\u001b[0;32m     10\u001b[0m \u001b[0mprint\u001b[0m\u001b[1;33m(\u001b[0m\u001b[1;34m\"all total =\"\u001b[0m\u001b[1;33m,\u001b[0m\u001b[0ms\u001b[0m\u001b[1;33m)\u001b[0m\u001b[1;33m\u001b[0m\u001b[1;33m\u001b[0m\u001b[0m\n",
      "\u001b[1;31mNameError\u001b[0m: name 'bill' is not defined"
     ]
    }
   ],
   "source": [
    "#string format\n",
    "n=int(input(\"Enter the number of product:\"))\n",
    "for i in range(n):\n",
    "    name=input(\"Enter the name of product:\")\n",
    "    price=int(input(\"Enter the price of product:\"))\n",
    "    quantity=int(input(\"Enter quantity of product:\"))\n",
    "    total=price*quantity\n",
    "    bill=bill+f\"{name} {price} {quantity} {total}\\n\"\n",
    "    s=s+total\n",
    "print(\"all total =\",s) \n",
    "print(bill)\n",
    "    \n",
    "    \n",
    "    \n",
    "\n",
    "\n"
   ]
  },
  {
   "cell_type": "code",
   "execution_count": 2,
   "id": "ef220f31",
   "metadata": {},
   "outputs": [
    {
     "name": "stdout",
     "output_type": "stream",
     "text": [
      "There is Ram\n"
     ]
    }
   ],
   "source": [
    "a=\"Ram Shyam Hari Sita Shitu Manoj Handsome\"\n",
    "if\"Ram\" in a:\n",
    "    print(\"There is Ram\")\n",
    "else:\n",
    "    print(\"No\")"
   ]
  },
  {
   "cell_type": "code",
   "execution_count": null,
   "id": "cf4cefef",
   "metadata": {},
   "outputs": [],
   "source": [
    "a=\"Ram Shyam Hari Sita Shitu Manoj Handsome\"\n",
    "b=input(\"Enter name for search:\")\n",
    "\n",
    "if b in a:\n",
    "    print(\"yes there is :\",b)\n",
    "else:\n",
    "    print(\"No\")"
   ]
  },
  {
   "cell_type": "code",
   "execution_count": 2,
   "id": "24b1cd7c",
   "metadata": {},
   "outputs": [
    {
     "name": "stdout",
     "output_type": "stream",
     "text": [
      "Ram Shyam Hari Sita Shitu Manoj Handsome\n",
      "ram shyam hari sita shitu manoj handsome\n",
      "RAM SHYAM HARI SITA SHITU MANOJ HANDSOME\n"
     ]
    }
   ],
   "source": [
    "a=\"Ram Shyam Hari Sita Shitu Manoj Handsome\"\n",
    "print(a)\n",
    "print(a.lower())\n",
    "print(a.upper())\n",
    "\n"
   ]
  },
  {
   "cell_type": "code",
   "execution_count": null,
   "id": "e52e7b14",
   "metadata": {},
   "outputs": [],
   "source": [
    "a=\"Ram Shyam Hari Sita Shitu Manoj Handsome\".upper()\n",
    "b=input(\"Enter name for search:\").upper()\n",
    "\n",
    "if b in a:\n",
    "    print(\"yes there is :\",b)\n",
    "else:\n",
    "    print(\"No\")"
   ]
  },
  {
   "cell_type": "code",
   "execution_count": 8,
   "id": "6fb8738d",
   "metadata": {},
   "outputs": [
    {
     "data": {
      "text/plain": [
       "'Sita Shyam Hari Sita Shitu Manoj Handsome'"
      ]
     },
     "execution_count": 8,
     "metadata": {},
     "output_type": "execute_result"
    }
   ],
   "source": [
    "#replace\n",
    "a=\"Ram Shyam Hari Sita Shitu Manoj Handsome\"\n",
    "a.replace(\"Ram\",\"Sita\")"
   ]
  },
  {
   "cell_type": "code",
   "execution_count": 1,
   "id": "a7ba427e",
   "metadata": {},
   "outputs": [
    {
     "data": {
      "text/plain": [
       "'Ram Shyam Hari Ram Shitu Manoj Handsome'"
      ]
     },
     "execution_count": 1,
     "metadata": {},
     "output_type": "execute_result"
    }
   ],
   "source": [
    "a='Sita Shyam Hari Sita Shitu Manoj Handsome'\n",
    "a.replace(\"Sita\",\"Ram\")"
   ]
  },
  {
   "cell_type": "code",
   "execution_count": 2,
   "id": "a87481fe",
   "metadata": {},
   "outputs": [],
   "source": [
    "#Python Collection\n",
    "\n",
    "#List\n",
    "#tuple\n",
    "#dict\n",
    "#set\n",
    "\n",
    "\n",
    "\n"
   ]
  },
  {
   "cell_type": "code",
   "execution_count": 3,
   "id": "67525cd7",
   "metadata": {},
   "outputs": [
    {
     "ename": "SyntaxError",
     "evalue": "invalid syntax (2959421854.py, line 4)",
     "output_type": "error",
     "traceback": [
      "\u001b[1;36m  File \u001b[1;32m\"C:\\Users\\Administrator\\AppData\\Local\\Temp\\ipykernel_7924\\2959421854.py\"\u001b[1;36m, line \u001b[1;32m4\u001b[0m\n\u001b[1;33m    -multiple and duplicate value\u001b[0m\n\u001b[1;37m                            ^\u001b[0m\n\u001b[1;31mSyntaxError\u001b[0m\u001b[1;31m:\u001b[0m invalid syntax\n"
     ]
    }
   ],
   "source": [
    "list\n",
    "-indexig\n",
    "-ordered\n",
    "-multiple and duplicate value\n",
    "-mutable\n"
   ]
  },
  {
   "cell_type": "code",
   "execution_count": 5,
   "id": "93ee37ea",
   "metadata": {},
   "outputs": [
    {
     "name": "stdout",
     "output_type": "stream",
     "text": [
      "['Apple', 'Ball', 'Cat']\n"
     ]
    }
   ],
   "source": [
    "a= [\"Apple\",\"Ball\",\"Cat\"]\n",
    "print(a)"
   ]
  },
  {
   "cell_type": "code",
   "execution_count": 7,
   "id": "8633bf52",
   "metadata": {},
   "outputs": [
    {
     "name": "stdout",
     "output_type": "stream",
     "text": [
      "Cat\n"
     ]
    }
   ],
   "source": [
    "#indexing\n",
    "a= [\"Apple\",\"Ball\",\"Cat\"]\n",
    "print(a[2])\n"
   ]
  },
  {
   "cell_type": "code",
   "execution_count": 8,
   "id": "fbee443d",
   "metadata": {},
   "outputs": [
    {
     "name": "stdout",
     "output_type": "stream",
     "text": [
      "['Apple', 'Ball', 'Cat', 'Apple', 'Ball', 'Cat']\n"
     ]
    }
   ],
   "source": [
    "a= [\"Apple\",\"Ball\",\"Cat\"]\n",
    "b= [\"Apple\",\"Ball\",\"Cat\"]\n",
    "c=a+b\n",
    "print(c)\n"
   ]
  },
  {
   "cell_type": "code",
   "execution_count": 10,
   "id": "d9a966d0",
   "metadata": {},
   "outputs": [
    {
     "name": "stdout",
     "output_type": "stream",
     "text": [
      "['Apple', 'Ball', 'Cat', 'Apple', 'Ball', 'Cat', 'Apple', 'Ball', 'Cat']\n"
     ]
    }
   ],
   "source": [
    "a= [\"Apple\",\"Ball\",\"Cat\"]\n",
    "print(a*3)"
   ]
  },
  {
   "cell_type": "code",
   "execution_count": 12,
   "id": "eff2515c",
   "metadata": {},
   "outputs": [
    {
     "name": "stdout",
     "output_type": "stream",
     "text": [
      "Enter the value of n:2\n",
      "Enter the value of x2\n",
      "Enter the value of x2\n",
      "[2, 2]\n"
     ]
    }
   ],
   "source": [
    "#creating list \n",
    "n= int(input(\"Enter the value of n:\"))\n",
    "l=[]\n",
    "for i in range (n):\n",
    "    x= int(input(\"Enter the value of x\"))\n",
    "    l=l+[x]\n",
    "print(l)    "
   ]
  },
  {
   "cell_type": "code",
   "execution_count": 2,
   "id": "4f44ab0a",
   "metadata": {},
   "outputs": [
    {
     "ename": "SyntaxError",
     "evalue": "EOL while scanning string literal (2120399152.py, line 1)",
     "output_type": "error",
     "traceback": [
      "\u001b[1;36m  File \u001b[1;32m\"C:\\Users\\Administrator\\AppData\\Local\\Temp\\ipykernel_396\\2120399152.py\"\u001b[1;36m, line \u001b[1;32m1\u001b[0m\n\u001b[1;33m    print(\"The maximum value =\",max[l]\")\u001b[0m\n\u001b[1;37m                                        ^\u001b[0m\n\u001b[1;31mSyntaxError\u001b[0m\u001b[1;31m:\u001b[0m EOL while scanning string literal\n"
     ]
    }
   ],
   "source": [
    "print(\"The maximum value =\",max[l]\")\n",
    "print(\"The minimum value =\",min[l]\")\n",
    "\n",
    "print(\"The sum of all  value =\",sum[l]\")\n",
    "l.sort()\n",
    "print(l)\n",
    "l.reverse()\n",
    "print(l)      \n",
    "      \n",
    "      "
   ]
  },
  {
   "cell_type": "code",
   "execution_count": 7,
   "id": "bda80938",
   "metadata": {},
   "outputs": [
    {
     "name": "stdout",
     "output_type": "stream",
     "text": [
      "Apple\n",
      "zebra\n",
      "Ball\n",
      "Cat\n",
      "['Apple', 'Ball', 'Cat', 'zebra']\n"
     ]
    }
   ],
   "source": [
    "a= [\"Apple\",\"zebra\",\"Ball\",\"Cat\"]\n",
    "for i in a:\n",
    "    print(i)\n",
    "a.sort()\n",
    "print(a)\n",
    "\n"
   ]
  },
  {
   "cell_type": "code",
   "execution_count": 12,
   "id": "6501c770",
   "metadata": {},
   "outputs": [
    {
     "name": "stdout",
     "output_type": "stream",
     "text": [
      "The length of a is: 4\n",
      "yes 1\n"
     ]
    }
   ],
   "source": [
    "a= [\"Apple\",\"zebra\",\"Ball\",\"Cat\"]\n",
    "print(\"The length of a is:\",len(a))\n",
    "if \"Apple\" in a:\n",
    "    print(\"yes\", a.count(\"Apple\"))\n",
    "else:\n",
    "    print(\"No\")\n",
    "      \n",
    "      \n",
    "      \n",
    "      \n",
    "      \n",
    "      \n",
    "      \n",
    "      \n",
    "      \n",
    "      \n",
    "     \n"
   ]
  },
  {
   "cell_type": "code",
   "execution_count": 13,
   "id": "1111179c",
   "metadata": {},
   "outputs": [],
   "source": [
    "# function use in List\n",
    "#append() insert() extend()\n",
    "#delete, del remove() ,pop()\n"
   ]
  },
  {
   "cell_type": "code",
   "execution_count": 15,
   "id": "cccfc91f",
   "metadata": {},
   "outputs": [
    {
     "name": "stdout",
     "output_type": "stream",
     "text": [
      "['Apple', 'zebra', 'Ball', 'Cat', 'Yak']\n"
     ]
    }
   ],
   "source": [
    "a= [\"Apple\",\"zebra\",\"Ball\",\"Cat\"]\n",
    "a.append(\"Yak\")\n",
    "print(a)"
   ]
  },
  {
   "cell_type": "code",
   "execution_count": 17,
   "id": "ee1d4559",
   "metadata": {},
   "outputs": [
    {
     "name": "stdout",
     "output_type": "stream",
     "text": [
      "['Apple', 'zebra', 'Yak', 'Ball', 'Cat']\n"
     ]
    }
   ],
   "source": [
    "# value in your choice count\n",
    "a= [\"Apple\",\"zebra\",\"Ball\",\"Cat\"]\n",
    "a.insert(2,\"Yak\")\n",
    "print(a)"
   ]
  },
  {
   "cell_type": "code",
   "execution_count": 19,
   "id": "a02e96eb",
   "metadata": {},
   "outputs": [
    {
     "name": "stdout",
     "output_type": "stream",
     "text": [
      "['Apple', 'zebra', 'Ball', 'Cat', 'Apple', 'zebra', 'Ball', 'Cat']\n"
     ]
    }
   ],
   "source": [
    "a= [\"Apple\",\"zebra\",\"Ball\",\"Cat\"]\n",
    "b= [\"Apple\",\"zebra\",\"Ball\",\"Cat\"]\n",
    "\n",
    "a.extend(b)\n",
    "print(a)"
   ]
  },
  {
   "cell_type": "code",
   "execution_count": 24,
   "id": "1febc350",
   "metadata": {},
   "outputs": [
    {
     "name": "stdout",
     "output_type": "stream",
     "text": [
      "['zebra', 'Ball', 'Cat']\n"
     ]
    }
   ],
   "source": [
    "a= [\"Apple\",\"zebra\",\"Ball\",\"Cat\"]\n",
    "del a[0]\n",
    "print(a)"
   ]
  },
  {
   "cell_type": "code",
   "execution_count": 26,
   "id": "97d16d28",
   "metadata": {},
   "outputs": [
    {
     "name": "stdout",
     "output_type": "stream",
     "text": [
      "['Apple', 'zebra', 'Cat']\n"
     ]
    }
   ],
   "source": [
    "a= [\"Apple\",\"zebra\",\"Ball\",\"Cat\"]\n",
    "a.remove(\"Ball\")\n",
    "print(a)"
   ]
  },
  {
   "cell_type": "code",
   "execution_count": 28,
   "id": "1d7f5db1",
   "metadata": {},
   "outputs": [
    {
     "name": "stdout",
     "output_type": "stream",
     "text": [
      "['Apple', 'Ball', 'Cat']\n",
      "zebra\n"
     ]
    }
   ],
   "source": [
    "#pop()\n",
    "a= [\"Apple\",\"zebra\",\"Ball\",\"Cat\"]\n",
    "b=a.pop(1)\n",
    "print(a)\n",
    "print(b)"
   ]
  },
  {
   "cell_type": "code",
   "execution_count": 30,
   "id": "d078bb96",
   "metadata": {},
   "outputs": [
    {
     "name": "stdout",
     "output_type": "stream",
     "text": [
      "['Ball', 'Cat']\n"
     ]
    }
   ],
   "source": [
    "#For multiple deletion\n",
    "a= [\"Apple\",\"zebra\",\"Ball\",\"Cat\"]\n",
    "del a[0:2]\n",
    "print(a)"
   ]
  },
  {
   "cell_type": "code",
   "execution_count": 35,
   "id": "0a291472",
   "metadata": {},
   "outputs": [
    {
     "name": "stdout",
     "output_type": "stream",
     "text": [
      "['Apple', 'zebra', 'Cat']\n"
     ]
    }
   ],
   "source": [
    "#For multiple deletion using remove \n",
    "a= [\"Apple\",\"zebra\",\"Ball\",\"Cat\",\"Ball\"]\n",
    "c=a.count(\"Ball\")\n",
    "for i in range(c):\n",
    "    a.remove(\"Ball\")\n",
    "print(a)\n"
   ]
  },
  {
   "cell_type": "code",
   "execution_count": 37,
   "id": "efd8580a",
   "metadata": {},
   "outputs": [
    {
     "data": {
      "text/plain": [
       "2"
      ]
     },
     "execution_count": 37,
     "metadata": {},
     "output_type": "execute_result"
    }
   ],
   "source": [
    "a= [\"Apple\",\"zebra\",\"Ball\",\"Cat\",\"Ball\"]\n",
    "a.index(\"Ball\")"
   ]
  },
  {
   "cell_type": "code",
   "execution_count": 38,
   "id": "a356f00c",
   "metadata": {},
   "outputs": [
    {
     "data": {
      "text/plain": [
       "2"
      ]
     },
     "execution_count": 38,
     "metadata": {},
     "output_type": "execute_result"
    }
   ],
   "source": [
    "a= [\"Apple\",\"zebra\",\"Ball\",\"Cat\",\"Ball\"]\n",
    "a.index(\"Ball\")"
   ]
  },
  {
   "cell_type": "code",
   "execution_count": 2,
   "id": "49005871",
   "metadata": {},
   "outputs": [],
   "source": [
    "#list inside list(nested list)\n",
    "a=[[1,2,3],[2,3,4],[5,6,7]]\n"
   ]
  },
  {
   "cell_type": "code",
   "execution_count": 7,
   "id": "99963af4",
   "metadata": {},
   "outputs": [
    {
     "data": {
      "text/plain": [
       "'pokhara'"
      ]
     },
     "execution_count": 7,
     "metadata": {},
     "output_type": "execute_result"
    }
   ],
   "source": [
    "a=[[\"ram\",10,\"butwal\"],[\"hari\",20,\"pokhara\"],[\"shyam\",40,\"palpa\"]]\n",
    "a[1][2]"
   ]
  },
  {
   "cell_type": "code",
   "execution_count": 1,
   "id": "b1e2ca69",
   "metadata": {},
   "outputs": [
    {
     "name": "stdout",
     "output_type": "stream",
     "text": [
      "Enter the value ofn :1\n",
      "Enter the name of person:jj\n",
      "Enter the Address:hh\n",
      "[['jj', 'hh']]\n"
     ]
    }
   ],
   "source": [
    "data=[]\n",
    "n=int(input(\"Enter the value ofn :\"))\n",
    "for i in range(n):\n",
    "    \n",
    "    na=input(\"Enter the name of person:\")\n",
    "        \n",
    "    a=input(\"Enter the Address:\")\n",
    "    b= [na,a]\n",
    "    data.append(b)\n",
    "print(data)    \n"
   ]
  },
  {
   "cell_type": "code",
   "execution_count": null,
   "id": "9af284ab",
   "metadata": {},
   "outputs": [],
   "source": [
    "a=[[\"ram\",10,\"butwal\"],[\"hari\",20,\"pokhara\"],[\"shyam\",40,\"palpa\"]]\n",
    "x.append([\"sita,23,bara\"])\n",
    "x"
   ]
  },
  {
   "cell_type": "code",
   "execution_count": 3,
   "id": "a9ec27a8",
   "metadata": {},
   "outputs": [
    {
     "name": "stdout",
     "output_type": "stream",
     "text": [
      "[['ram', 10, 'butwal'], ['hari', 20, 'pokhara'], ['shyam', 40, 'palpa'], ['sita,23,bara']]\n"
     ]
    }
   ],
   "source": [
    "a=[[\"ram\",10,\"butwal\"],[\"hari\",20,\"pokhara\"],[\"shyam\",40,\"palpa\"]]\n",
    "a.append([\"sita,23,bara\"])\n",
    "print(a)"
   ]
  },
  {
   "cell_type": "code",
   "execution_count": 2,
   "id": "d58fea37",
   "metadata": {},
   "outputs": [
    {
     "name": "stdout",
     "output_type": "stream",
     "text": [
      "Enter name =ram\n"
     ]
    },
    {
     "ename": "NameError",
     "evalue": "name 'x' is not defined",
     "output_type": "error",
     "traceback": [
      "\u001b[1;31m---------------------------------------------------------------------------\u001b[0m",
      "\u001b[1;31mNameError\u001b[0m                                 Traceback (most recent call last)",
      "\u001b[1;32m~\\AppData\\Local\\Temp\\ipykernel_4116\\3436205856.py\u001b[0m in \u001b[0;36m<module>\u001b[1;34m\u001b[0m\n\u001b[0;32m      1\u001b[0m \u001b[0ma\u001b[0m\u001b[1;33m=\u001b[0m\u001b[1;33m[\u001b[0m\u001b[1;33m[\u001b[0m\u001b[1;34m'ram'\u001b[0m\u001b[1;33m,\u001b[0m \u001b[1;36m10\u001b[0m\u001b[1;33m,\u001b[0m \u001b[1;34m'butwal'\u001b[0m\u001b[1;33m]\u001b[0m\u001b[1;33m,\u001b[0m \u001b[1;33m[\u001b[0m\u001b[1;34m'hari'\u001b[0m\u001b[1;33m,\u001b[0m \u001b[1;36m20\u001b[0m\u001b[1;33m,\u001b[0m \u001b[1;34m'pokhara'\u001b[0m\u001b[1;33m]\u001b[0m\u001b[1;33m,\u001b[0m \u001b[1;33m[\u001b[0m\u001b[1;34m'shyam'\u001b[0m\u001b[1;33m,\u001b[0m \u001b[1;36m40\u001b[0m\u001b[1;33m,\u001b[0m \u001b[1;34m'palpa'\u001b[0m\u001b[1;33m]\u001b[0m\u001b[1;33m,\u001b[0m \u001b[1;33m[\u001b[0m\u001b[1;34m'sita,23,bara'\u001b[0m\u001b[1;33m]\u001b[0m\u001b[1;33m]\u001b[0m\u001b[1;33m\u001b[0m\u001b[1;33m\u001b[0m\u001b[0m\n\u001b[0;32m      2\u001b[0m \u001b[0msearch\u001b[0m\u001b[1;33m=\u001b[0m \u001b[0minput\u001b[0m\u001b[1;33m(\u001b[0m\u001b[1;34m\"Enter name =\"\u001b[0m\u001b[1;33m)\u001b[0m\u001b[1;33m\u001b[0m\u001b[1;33m\u001b[0m\u001b[0m\n\u001b[1;32m----> 3\u001b[1;33m \u001b[1;32mfor\u001b[0m \u001b[0mi\u001b[0m \u001b[1;32min\u001b[0m \u001b[0mx\u001b[0m\u001b[1;33m:\u001b[0m\u001b[1;33m\u001b[0m\u001b[1;33m\u001b[0m\u001b[0m\n\u001b[0m\u001b[0;32m      4\u001b[0m     \u001b[1;32mif\u001b[0m \u001b[0msearch\u001b[0m \u001b[1;32min\u001b[0m \u001b[0mi\u001b[0m\u001b[1;33m:\u001b[0m\u001b[1;33m\u001b[0m\u001b[1;33m\u001b[0m\u001b[0m\n\u001b[0;32m      5\u001b[0m         \u001b[0mprint\u001b[0m\u001b[1;33m(\u001b[0m\u001b[0mi\u001b[0m\u001b[1;33m)\u001b[0m\u001b[1;33m\u001b[0m\u001b[1;33m\u001b[0m\u001b[0m\n",
      "\u001b[1;31mNameError\u001b[0m: name 'x' is not defined"
     ]
    }
   ],
   "source": [
    "a=[['ram', 10, 'butwal'], ['hari', 20, 'pokhara'], ['shyam', 40, 'palpa'], ['sita,23,bara']]\n",
    "search= input(\"Enter name =\")\n",
    "for i in x:\n",
    "    if search in i:\n",
    "        print(i)"
   ]
  },
  {
   "cell_type": "code",
   "execution_count": 5,
   "id": "eca98c93",
   "metadata": {},
   "outputs": [
    {
     "name": "stdout",
     "output_type": "stream",
     "text": [
      "Enter name =hdgsjh\n",
      "[['ram', 10, 'butwal'], ['hari', 20, 'pokhara'], ['shyam', 40, 'palpa'], ['sita,23,bara']]\n"
     ]
    }
   ],
   "source": [
    "x=[['ram', 10, 'butwal'], ['hari', 20, 'pokhara'], ['shyam', 40, 'palpa'], ['sita,23,bara']]\n",
    "search= input(\"Enter name =\")\n",
    "for i in x:\n",
    "    if search in i:\n",
    "        x.remove(i)\n",
    "print(x)        \n",
    "        \n"
   ]
  },
  {
   "cell_type": "code",
   "execution_count": 8,
   "id": "d024e0ba",
   "metadata": {},
   "outputs": [
    {
     "ename": "IndentationError",
     "evalue": "expected an indented block (2184897427.py, line 7)",
     "output_type": "error",
     "traceback": [
      "\u001b[1;36m  File \u001b[1;32m\"C:\\Users\\Administrator\\AppData\\Local\\Temp\\ipykernel_4116\\2184897427.py\"\u001b[1;36m, line \u001b[1;32m7\u001b[0m\n\u001b[1;33m    print(i)\u001b[0m\n\u001b[1;37m            ^\u001b[0m\n\u001b[1;31mIndentationError\u001b[0m\u001b[1;31m:\u001b[0m expected an indented block\n"
     ]
    }
   ],
   "source": [
    "x=[['ram', 10, 'butwal'], ['ram', 20, 'pokhara'], ['shyam', 40, 'palpa'], ['sita,23,bara']]\n",
    "l=len(x)\n",
    "search= input(\"Enter name =\")\n",
    "for i in range(l):\n",
    "    if search in x[i]:\n",
    "        \n",
    "        print(i)\n",
    "   "
   ]
  },
  {
   "cell_type": "code",
   "execution_count": 7,
   "id": "52508f83",
   "metadata": {},
   "outputs": [
    {
     "name": "stdout",
     "output_type": "stream",
     "text": [
      "['apple 300 2 600 ', ' Banana 100 3 300']\n",
      "[['apple', '300', '2', '600'], ['Banana', '100', '3', '300']]\n"
     ]
    }
   ],
   "source": [
    "a=\"apple 300 2 600 \\n Banana 100 3 300\"\n",
    "x=a.split(\"\\n\")\n",
    "print(x)\n",
    "data=[]\n",
    "for i in x:\n",
    "    y=i.split()\n",
    "    data.append(y)\n",
    "print(data)    "
   ]
  },
  {
   "cell_type": "code",
   "execution_count": 9,
   "id": "4639202e",
   "metadata": {},
   "outputs": [
    {
     "data": {
      "text/plain": [
       "[1, 2, 3, 45, 5, 6, 78, 8]"
      ]
     },
     "execution_count": 9,
     "metadata": {},
     "output_type": "execute_result"
    }
   ],
   "source": [
    "#Tuple\n",
    "#imutable\n",
    "a=(1,2,3,45,5,6,78,8)\n",
    "b=list(a)\n",
    "b\n"
   ]
  },
  {
   "cell_type": "code",
   "execution_count": null,
   "id": "80e1a1ef",
   "metadata": {},
   "outputs": [],
   "source": [
    "matrix=[]\n",
    "r=int(input(\"Enter the no. of row\"))\n",
    "c=int(input(\"Enter the no. of column\"))\n",
    "for i in range(r):\n",
    "    a=[]\n",
    "    for j in range(c):\n",
    "        k=input(\"Enter the element of matrix :\")\n",
    "        a.append(k)\n",
    "    matrix.append(a)\n",
    "for i in range(r):\n",
    "    for j in range(c):\n",
    "        print(matrix[i][j], end=\" \")\n",
    "    print()    "
   ]
  },
  {
   "cell_type": "code",
   "execution_count": null,
   "id": "01ffd0d2",
   "metadata": {},
   "outputs": [],
   "source": [
    "matrix=[]\n",
    "r=int(input(\"Enter the no. of row\"))\n",
    "c=int(input(\"Enter the no. of column\"))\n",
    "for i in range(r):\n",
    "    a=[]\n",
    "    for j in range(c):\n",
    "        k=input(\"Enter the element of matrix :\")\n",
    "        a.append(k)\n",
    "    matrix.append(a)\n",
    "    print(matrix) \n",
    "    print()\n",
    "    "
   ]
  },
  {
   "cell_type": "code",
   "execution_count": null,
   "id": "158a3bbd",
   "metadata": {},
   "outputs": [],
   "source": [
    "#dictionary\n",
    "#index\n",
    "#Multiple and duplicate value\n",
    "#ordered\n",
    "#mutable\n"
   ]
  },
  {
   "cell_type": "code",
   "execution_count": 4,
   "id": "31edec53",
   "metadata": {},
   "outputs": [
    {
     "name": "stdout",
     "output_type": "stream",
     "text": [
      "{'a': 'apple', 'b': 'Ball', 'c': 'Cat'}\n"
     ]
    }
   ],
   "source": [
    "#d={<key>:<value>,<key>:<value>,...}\n",
    "d={\"a\":\"apple\",\"b\":\"Ball\",\"c\":\"Cat\"}\n",
    "print(d)"
   ]
  },
  {
   "cell_type": "code",
   "execution_count": 9,
   "id": "6a04800e",
   "metadata": {},
   "outputs": [
    {
     "name": "stdout",
     "output_type": "stream",
     "text": [
      "apple\n"
     ]
    }
   ],
   "source": [
    "d={\"a\":\"apple\",\"b\":\"Ball\",\"c\":\"Cat\"}\n",
    "print(d[\"a\"])"
   ]
  },
  {
   "cell_type": "code",
   "execution_count": 11,
   "id": "92d63f9f",
   "metadata": {},
   "outputs": [
    {
     "name": "stdout",
     "output_type": "stream",
     "text": [
      "{'a': 'Cat', 'b': 'Ball'}\n"
     ]
    }
   ],
   "source": [
    "d={\"a\":\"apple\",\"b\":\"Ball\",\"a\":\"Cat\"}\n",
    "print(d)"
   ]
  },
  {
   "cell_type": "code",
   "execution_count": 14,
   "id": "5cde26b3",
   "metadata": {},
   "outputs": [
    {
     "name": "stdout",
     "output_type": "stream",
     "text": [
      "{'a': 'Apple', 'b': 'Ball'}\n"
     ]
    }
   ],
   "source": [
    "d={}\n",
    "d[\"a\"]=\"Apple\"\n",
    "d[\"b\"]=\"Ball\"\n",
    "print(d)"
   ]
  },
  {
   "cell_type": "code",
   "execution_count": null,
   "id": "9ec85a24",
   "metadata": {},
   "outputs": [],
   "source": [
    "d={}\n",
    "n=int(input(\"Enter the value of n\"))\n",
    "for i in range(n):\n",
    "    name=input(\"Enter the name of Person:\")\n",
    "    Phone_no=int(input(\"Enter the phn of Person:\"))\n",
    "    d[name] = Phone_no\n",
    "print(d)    \n",
    "    "
   ]
  },
  {
   "cell_type": "code",
   "execution_count": 3,
   "id": "5f83c3e6",
   "metadata": {},
   "outputs": [
    {
     "name": "stdout",
     "output_type": "stream",
     "text": [
      "('a', 'apple')\n",
      "('b', 'Ball')\n",
      "('c', 'Cat')\n"
     ]
    }
   ],
   "source": [
    "d={\"a\":\"apple\",\"b\":\"Ball\",\"c\":\"Cat\"}\n",
    "for i in d.items():\n",
    "    print(i)"
   ]
  },
  {
   "cell_type": "code",
   "execution_count": 4,
   "id": "085d1381",
   "metadata": {},
   "outputs": [
    {
     "name": "stdout",
     "output_type": "stream",
     "text": [
      "[('a', 'apple'), ('b', 'Ball'), ('c', 'Cat')]\n"
     ]
    },
    {
     "data": {
      "text/plain": [
       "{'a': 'apple', 'b': 'Ball', 'c': 'Cat'}"
      ]
     },
     "execution_count": 4,
     "metadata": {},
     "output_type": "execute_result"
    }
   ],
   "source": [
    "l=[]\n",
    "d={\"a\":\"apple\",\"b\":\"Ball\",\"c\":\"Cat\"}\n",
    "for i in d.items():\n",
    "    l.append(i)\n",
    "print(l)\n",
    "dict(l)\n"
   ]
  },
  {
   "cell_type": "code",
   "execution_count": 11,
   "id": "198b2bf1",
   "metadata": {},
   "outputs": [
    {
     "data": {
      "text/plain": [
       "{'a': 'apple', 'b': 'Ball', 'c': 'Cat', 'k': 'apple'}"
      ]
     },
     "execution_count": 11,
     "metadata": {},
     "output_type": "execute_result"
    }
   ],
   "source": [
    "# no + *\n",
    "d={\"a\":\"apple\",\"b\":\"Ball\",\"c\":\"Cat\"}\n",
    "a={\"k\":\"apple\"}\n",
    "d.update(a)\n",
    "d\n"
   ]
  },
  {
   "cell_type": "code",
   "execution_count": 13,
   "id": "e8a68b34",
   "metadata": {},
   "outputs": [
    {
     "name": "stdout",
     "output_type": "stream",
     "text": [
      "{'a': ['apple', 'Ant'], 'b': ['Ball', 'Banana'], 'c': ['Cat', 'Cow']}\n"
     ]
    }
   ],
   "source": [
    "#list inside dictionary\n",
    "d={\"a\":[\"apple\",\"Ant\"],\"b\":[\"Ball\",\"Banana\"],\"c\":[\"Cat\",\"Cow\"]}\n",
    "print(d)\n",
    "\n"
   ]
  },
  {
   "cell_type": "code",
   "execution_count": null,
   "id": "9bca736e",
   "metadata": {},
   "outputs": [],
   "source": [
    "d={}\n",
    "n=int(input(\"Enter the value of n:\"))\n",
    "for i in range(n):\n",
    "    name=input(\"Enter the name of student:\")\n",
    "    NTC=int(input(\"Enter the number of ntc:\"))\n",
    "    NCELL=int(input(\"Enter the Ncell number\"))\n",
    "    d[name]=[NTC,NCELL]\n",
    "print(d)    "
   ]
  },
  {
   "cell_type": "code",
   "execution_count": null,
   "id": "77a4ff99",
   "metadata": {},
   "outputs": [],
   "source": [
    "d={\"name\":[],\"age\":[],\"address\":[]}\n",
    "n=int(input(\"Enter the value of n:\"))\n",
    "for i in range(n):\n",
    "    \n",
    "    name=input(\"Enter the name of student:\")\n",
    "    age=int(input(\"Enter the number of ntc:\"))\n",
    "    address=(input(\"Enter the Ncell number\"))\n",
    "    d[\"name\"].append(name)\n",
    "    d[\"age\"].append(age)\n",
    "    d[\"address\"].append(address)\n",
    "    \n",
    "print(d)    "
   ]
  },
  {
   "cell_type": "code",
   "execution_count": 5,
   "id": "d7ca1c36",
   "metadata": {},
   "outputs": [
    {
     "data": {
      "text/plain": [
       "{'a': ['Ant'], 'b': ['Banana'], 'c': ['Cow']}"
      ]
     },
     "execution_count": 5,
     "metadata": {},
     "output_type": "execute_result"
    }
   ],
   "source": [
    "d={'a': ['apple', 'Ant'], 'b': ['Ball', 'Banana'], 'c': ['Cat', 'Cow']}\n",
    "del d[\"a\"][0]\n",
    "del d[\"b\"][0]\n",
    "\n",
    "del d[\"c\"][0]\n",
    "\n",
    "d\n"
   ]
  },
  {
   "cell_type": "code",
   "execution_count": 8,
   "id": "09366063",
   "metadata": {},
   "outputs": [
    {
     "data": {
      "text/plain": [
       "{'a': ['apple', 'Ant'], 'b': ['Ball', 'Banana'], 'c': ['Camel', 'Cow']}"
      ]
     },
     "execution_count": 8,
     "metadata": {},
     "output_type": "execute_result"
    }
   ],
   "source": [
    "d={'a': ['apple', 'Ant'], 'b': ['Ball', 'Banana'], 'c': ['Cat', 'Cow']}\n",
    "d[\"c\"][0]=\"Camel\"\n",
    "d"
   ]
  },
  {
   "cell_type": "code",
   "execution_count": null,
   "id": "eee0adfc",
   "metadata": {},
   "outputs": [],
   "source": [
    "#dict inside list inside dict\n",
    "l=[]\n",
    "n=int(input(\"Enter the number :\"))\n",
    "for i in range(n):\n",
    "    d={\"name\":[],\"age\":[],\"address\":[]}\n",
    "\n",
    "    name=(input(\"Enter the name :\"))\n",
    "    age=int(input(\"Enter the age :\"))\n",
    "    address=(input(\"Enter the adress :\"))\n",
    "    d[\"name\"]=(name)\n",
    "    d[\"age\"]=(age)\n",
    "    d[\"address\"]=(address)\n",
    "    \n",
    "    l.append(d)\n",
    "print(l)\n",
    "    \n",
    "    \n",
    "    "
   ]
  },
  {
   "cell_type": "code",
   "execution_count": 2,
   "id": "1241e216",
   "metadata": {},
   "outputs": [
    {
     "name": "stdout",
     "output_type": "stream",
     "text": [
      "Enter the value of n:2\n",
      "Enter the name :ram\n",
      "Enter the age :22\n",
      "Enter the adress :grtf\n",
      "Enter the name :er\n",
      "Enter the age :00\n",
      "Enter the adress :rfg\n",
      "{1: {'name': 'ram', 'age': 22, 'add': 'grtf'}, 2: {'name': 'er', 'age': 0, 'add': 'rfg'}}\n"
     ]
    }
   ],
   "source": [
    "data={}\n",
    "n =int(input (\"Enter the value of n:\"))\n",
    "for i in range(1,n+1):\n",
    "    name=(input(\"Enter the name :\"))\n",
    "    age=int(input(\"Enter the age :\"))\n",
    "    add=(input(\"Enter the adress :\"))\n",
    "    info={\"name\":name,\"age\":age,\"add\":add}\n",
    "    data[i]=info\n",
    "print(data)    \n",
    "    "
   ]
  },
  {
   "cell_type": "code",
   "execution_count": 3,
   "id": "e214cc5a",
   "metadata": {},
   "outputs": [],
   "source": [
    "#dict inside dict inside dict\n"
   ]
  },
  {
   "cell_type": "code",
   "execution_count": 4,
   "id": "8d138feb",
   "metadata": {},
   "outputs": [],
   "source": [
    "#set\n",
    "#no indexing\n",
    "#un orderd\n",
    "#multiple but no duplicate\n",
    "#mutable\n"
   ]
  },
  {
   "cell_type": "code",
   "execution_count": 3,
   "id": "9a853250",
   "metadata": {},
   "outputs": [
    {
     "name": "stdout",
     "output_type": "stream",
     "text": [
      "{200, 'ram', 100, 300}\n"
     ]
    }
   ],
   "source": [
    "s={100,200,300,\"ram\"}\n",
    "print(s)"
   ]
  },
  {
   "cell_type": "code",
   "execution_count": 11,
   "id": "9f6dee13",
   "metadata": {},
   "outputs": [
    {
     "name": "stdout",
     "output_type": "stream",
     "text": [
      "{'name': '{ram,100,20}', 'age': 0, 'add': 'rfg'}\n"
     ]
    }
   ],
   "source": [
    "d={'name': \"{ram,100,20}\", 'age': 0, 'add': 'rfg'}\n",
    "print(d)"
   ]
  },
  {
   "cell_type": "code",
   "execution_count": 16,
   "id": "e2d2b2b7",
   "metadata": {},
   "outputs": [
    {
     "data": {
      "text/plain": [
       "{100, 20, 200, 300, 'ram'}"
      ]
     },
     "execution_count": 16,
     "metadata": {},
     "output_type": "execute_result"
    }
   ],
   "source": [
    "s={\"ram\",100,20}\n",
    "d={100,200,300,\"ram\"}\n",
    "s.union(d)\n"
   ]
  },
  {
   "cell_type": "code",
   "execution_count": null,
   "id": "ab02d09f",
   "metadata": {},
   "outputs": [],
   "source": [
    "#File\n",
    "b=open(\"<file name>\",\"<mode>\"\")\n",
    "b.close()\n",
    "\n",
    "with open(\"<file_name\",<mode>) as f:\n",
    "       \n",
    "       <operation>\n",
    "\n",
    "modes\n",
    "       r-> read\n",
    "       x-> create\n",
    "       w-> write\n",
    "       a-> append"
   ]
  },
  {
   "cell_type": "code",
   "execution_count": 3,
   "id": "df1a72d9",
   "metadata": {},
   "outputs": [
    {
     "name": "stdout",
     "output_type": "stream",
     "text": [
      "The file is already there\n"
     ]
    }
   ],
   "source": [
    "try:\n",
    "    \n",
    "    b=open(\"data.txt\",\"x\")\n",
    "    b.close()\n",
    "except:\n",
    "    print(\"The file is already there\")\n",
    "    \n"
   ]
  },
  {
   "cell_type": "code",
   "execution_count": 14,
   "id": "21d0b138",
   "metadata": {},
   "outputs": [
    {
     "name": "stdout",
     "output_type": "stream",
     "text": [
      "1. Hello World\n",
      "2. Hello World\n",
      "3. Hello World\n",
      "4. Hello World\n",
      "5. Hello World\n",
      "<class 'str'>\n"
     ]
    }
   ],
   "source": [
    "file = open(\"data.txt\",\"r\")\n",
    "x = file.read()\n",
    "print(x)\n",
    "print(type(x))\n",
    "file.close()"
   ]
  },
  {
   "cell_type": "code",
   "execution_count": 17,
   "id": "ab705eb8",
   "metadata": {},
   "outputs": [
    {
     "name": "stdout",
     "output_type": "stream",
     "text": [
      "11\n"
     ]
    }
   ],
   "source": [
    "file = open(\"data.txt\",\"w\")\n",
    "x = file.write(\"Hello World\")\n",
    "print(x)\n",
    "\n",
    "file.close()"
   ]
  },
  {
   "cell_type": "code",
   "execution_count": 22,
   "id": "22b5df2f",
   "metadata": {},
   "outputs": [
    {
     "name": "stdout",
     "output_type": "stream",
     "text": [
      "Enter the number of product:1\n",
      "Enter the name of product:efw\n",
      "Enter the price of product:5\n",
      "Enter quantity of product:5\n",
      "efw 5 5 25\n",
      "\n"
     ]
    }
   ],
   "source": [
    "s=0\n",
    "n=int(input(\"Enter the number of product:\"))\n",
    "bill=str()\n",
    "for i in range(n):\n",
    "    name=input(\"Enter the name of product:\")\n",
    "    price=int(input(\"Enter the price of product:\"))\n",
    "    quantity=int(input(\"Enter quantity of product:\"))\n",
    "    total=price*quantity\n",
    "    bill=bill+f\"{name} {price} {quantity} {total}\\n\"\n",
    "    s=s+total\n",
    "print(bill)\n",
    "    \n",
    "    \n",
    "file = open(\"bill.txt\",\"w\")\n",
    "x = file.write(bill)\n",
    "\n",
    "\n",
    "file.close()\n"
   ]
  },
  {
   "cell_type": "code",
   "execution_count": 1,
   "id": "bb572281",
   "metadata": {},
   "outputs": [
    {
     "name": "stdout",
     "output_type": "stream",
     "text": [
      "Enter the number of product:2\n",
      "Enter the name of product:Apple\n",
      "Enter the price of product:100\n",
      "Enter quantity of product:2\n",
      "Enter the name of product:Grapes\n",
      "Enter the price of product:200\n",
      "Enter quantity of product:3\n",
      "Apple ,100 ,2 ,200\n",
      "Grapes ,200 ,3 ,600\n",
      "\n"
     ]
    }
   ],
   "source": [
    "s=0\n",
    "n=int(input(\"Enter the number of product:\"))\n",
    "bill=str()\n",
    "for i in range(n):\n",
    "    name=input(\"Enter the name of product:\")\n",
    "    price=int(input(\"Enter the price of product:\"))\n",
    "    quantity=int(input(\"Enter quantity of product:\"))\n",
    "    total=price*quantity\n",
    "    bill=bill+f\"{name} ,{price} ,{quantity} ,{total}\\n\"\n",
    "    s=s+total\n",
    "print(bill)\n",
    "    \n",
    "    \n",
    "file = open(\"bill.csv\",\"w\")\n",
    "file.write(\"name,price,quantity,total\\n\")\n",
    "x = file.write(bill)\n",
    "\n",
    "\n",
    "file.close()\n"
   ]
  },
  {
   "cell_type": "code",
   "execution_count": 3,
   "id": "46310216",
   "metadata": {},
   "outputs": [
    {
     "name": "stdout",
     "output_type": "stream",
     "text": [
      "the file is already there\n"
     ]
    }
   ],
   "source": [
    "#Pandas\n",
    "try:\n",
    "    \n",
    "    file=open(\"data.csv\",\"x\")\n",
    "    file.close()\n",
    "except:\n",
    "    print(\"the file is already there\")"
   ]
  },
  {
   "cell_type": "code",
   "execution_count": 9,
   "id": "873165d0",
   "metadata": {},
   "outputs": [
    {
     "data": {
      "text/html": [
       "<div>\n",
       "<style scoped>\n",
       "    .dataframe tbody tr th:only-of-type {\n",
       "        vertical-align: middle;\n",
       "    }\n",
       "\n",
       "    .dataframe tbody tr th {\n",
       "        vertical-align: top;\n",
       "    }\n",
       "\n",
       "    .dataframe thead th {\n",
       "        text-align: right;\n",
       "    }\n",
       "</style>\n",
       "<table border=\"1\" class=\"dataframe\">\n",
       "  <thead>\n",
       "    <tr style=\"text-align: right;\">\n",
       "      <th></th>\n",
       "      <th>sn</th>\n",
       "      <th>name</th>\n",
       "      <th>age</th>\n",
       "      <th>add</th>\n",
       "      <th>phone</th>\n",
       "    </tr>\n",
       "  </thead>\n",
       "  <tbody>\n",
       "    <tr>\n",
       "      <th>0</th>\n",
       "      <td>1</td>\n",
       "      <td>Ram</td>\n",
       "      <td>23</td>\n",
       "      <td>Kathmandu</td>\n",
       "      <td>9869850620</td>\n",
       "    </tr>\n",
       "    <tr>\n",
       "      <th>1</th>\n",
       "      <td>2</td>\n",
       "      <td>hari</td>\n",
       "      <td>24</td>\n",
       "      <td>pokhara</td>\n",
       "      <td>9857052061</td>\n",
       "    </tr>\n",
       "    <tr>\n",
       "      <th>2</th>\n",
       "      <td>3</td>\n",
       "      <td>Shyam</td>\n",
       "      <td>25</td>\n",
       "      <td>jhapa</td>\n",
       "      <td>9847407810</td>\n",
       "    </tr>\n",
       "    <tr>\n",
       "      <th>3</th>\n",
       "      <td>4</td>\n",
       "      <td>Bikash</td>\n",
       "      <td>25</td>\n",
       "      <td>butwal</td>\n",
       "      <td>9807464666</td>\n",
       "    </tr>\n",
       "    <tr>\n",
       "      <th>4</th>\n",
       "      <td>5</td>\n",
       "      <td>Manoj</td>\n",
       "      <td>25</td>\n",
       "      <td>kapilvastu</td>\n",
       "      <td>9857026038</td>\n",
       "    </tr>\n",
       "    <tr>\n",
       "      <th>5</th>\n",
       "      <td>6</td>\n",
       "      <td>Bishal</td>\n",
       "      <td>26</td>\n",
       "      <td>kaski</td>\n",
       "      <td>9847091671</td>\n",
       "    </tr>\n",
       "  </tbody>\n",
       "</table>\n",
       "</div>"
      ],
      "text/plain": [
       "   sn    name  age         add       phone\n",
       "0   1     Ram   23   Kathmandu  9869850620\n",
       "1   2    hari   24     pokhara  9857052061\n",
       "2   3   Shyam   25       jhapa  9847407810\n",
       "3   4  Bikash   25      butwal  9807464666\n",
       "4   5   Manoj   25  kapilvastu  9857026038\n",
       "5   6  Bishal   26       kaski  9847091671"
      ]
     },
     "execution_count": 9,
     "metadata": {},
     "output_type": "execute_result"
    }
   ],
   "source": [
    "import pandas as pd\n",
    "df = pd.read_csv(\"data.csv\")\n",
    "df"
   ]
  },
  {
   "cell_type": "code",
   "execution_count": 11,
   "id": "1a7e5e93",
   "metadata": {},
   "outputs": [
    {
     "data": {
      "text/html": [
       "<div>\n",
       "<style scoped>\n",
       "    .dataframe tbody tr th:only-of-type {\n",
       "        vertical-align: middle;\n",
       "    }\n",
       "\n",
       "    .dataframe tbody tr th {\n",
       "        vertical-align: top;\n",
       "    }\n",
       "\n",
       "    .dataframe thead th {\n",
       "        text-align: right;\n",
       "    }\n",
       "</style>\n",
       "<table border=\"1\" class=\"dataframe\">\n",
       "  <thead>\n",
       "    <tr style=\"text-align: right;\">\n",
       "      <th></th>\n",
       "      <th>sn</th>\n",
       "      <th>name</th>\n",
       "      <th>age</th>\n",
       "      <th>add</th>\n",
       "      <th>phone</th>\n",
       "    </tr>\n",
       "  </thead>\n",
       "  <tbody>\n",
       "    <tr>\n",
       "      <th>0</th>\n",
       "      <td>1</td>\n",
       "      <td>Ram</td>\n",
       "      <td>23</td>\n",
       "      <td>Kathmandu</td>\n",
       "      <td>9869850620</td>\n",
       "    </tr>\n",
       "    <tr>\n",
       "      <th>1</th>\n",
       "      <td>2</td>\n",
       "      <td>hari</td>\n",
       "      <td>24</td>\n",
       "      <td>pokhara</td>\n",
       "      <td>9857052061</td>\n",
       "    </tr>\n",
       "    <tr>\n",
       "      <th>2</th>\n",
       "      <td>3</td>\n",
       "      <td>Shyam</td>\n",
       "      <td>25</td>\n",
       "      <td>jhapa</td>\n",
       "      <td>9847407810</td>\n",
       "    </tr>\n",
       "    <tr>\n",
       "      <th>3</th>\n",
       "      <td>4</td>\n",
       "      <td>Bikash</td>\n",
       "      <td>25</td>\n",
       "      <td>butwal</td>\n",
       "      <td>9807464666</td>\n",
       "    </tr>\n",
       "  </tbody>\n",
       "</table>\n",
       "</div>"
      ],
      "text/plain": [
       "   sn    name  age        add       phone\n",
       "0   1     Ram   23  Kathmandu  9869850620\n",
       "1   2    hari   24    pokhara  9857052061\n",
       "2   3   Shyam   25      jhapa  9847407810\n",
       "3   4  Bikash   25     butwal  9807464666"
      ]
     },
     "execution_count": 11,
     "metadata": {},
     "output_type": "execute_result"
    }
   ],
   "source": [
    "import pandas as pd\n",
    "df = pd.read_csv(\"data.csv\",nrows=4)\n",
    "df"
   ]
  },
  {
   "cell_type": "code",
   "execution_count": 14,
   "id": "b7529af7",
   "metadata": {},
   "outputs": [
    {
     "data": {
      "text/html": [
       "<div>\n",
       "<style scoped>\n",
       "    .dataframe tbody tr th:only-of-type {\n",
       "        vertical-align: middle;\n",
       "    }\n",
       "\n",
       "    .dataframe tbody tr th {\n",
       "        vertical-align: top;\n",
       "    }\n",
       "\n",
       "    .dataframe thead th {\n",
       "        text-align: right;\n",
       "    }\n",
       "</style>\n",
       "<table border=\"1\" class=\"dataframe\">\n",
       "  <thead>\n",
       "    <tr style=\"text-align: right;\">\n",
       "      <th></th>\n",
       "      <th>name</th>\n",
       "      <th>age</th>\n",
       "      <th>add</th>\n",
       "      <th>phone</th>\n",
       "    </tr>\n",
       "    <tr>\n",
       "      <th>sn</th>\n",
       "      <th></th>\n",
       "      <th></th>\n",
       "      <th></th>\n",
       "      <th></th>\n",
       "    </tr>\n",
       "  </thead>\n",
       "  <tbody>\n",
       "    <tr>\n",
       "      <th>1</th>\n",
       "      <td>Ram</td>\n",
       "      <td>23</td>\n",
       "      <td>Kathmandu</td>\n",
       "      <td>9869850620</td>\n",
       "    </tr>\n",
       "    <tr>\n",
       "      <th>2</th>\n",
       "      <td>Hari</td>\n",
       "      <td>24</td>\n",
       "      <td>pokhara</td>\n",
       "      <td>9857052061</td>\n",
       "    </tr>\n",
       "    <tr>\n",
       "      <th>3</th>\n",
       "      <td>Shyam</td>\n",
       "      <td>25</td>\n",
       "      <td>jhapa</td>\n",
       "      <td>9847407810</td>\n",
       "    </tr>\n",
       "    <tr>\n",
       "      <th>4</th>\n",
       "      <td>Bikash</td>\n",
       "      <td>25</td>\n",
       "      <td>butwal</td>\n",
       "      <td>9807464666</td>\n",
       "    </tr>\n",
       "    <tr>\n",
       "      <th>5</th>\n",
       "      <td>Manoj</td>\n",
       "      <td>25</td>\n",
       "      <td>kapilvastu</td>\n",
       "      <td>9857026038</td>\n",
       "    </tr>\n",
       "    <tr>\n",
       "      <th>6</th>\n",
       "      <td>Bishal</td>\n",
       "      <td>26</td>\n",
       "      <td>kaski</td>\n",
       "      <td>9847091671</td>\n",
       "    </tr>\n",
       "  </tbody>\n",
       "</table>\n",
       "</div>"
      ],
      "text/plain": [
       "      name  age         add       phone\n",
       "sn                                     \n",
       "1      Ram   23   Kathmandu  9869850620\n",
       "2     Hari   24     pokhara  9857052061\n",
       "3    Shyam   25       jhapa  9847407810\n",
       "4   Bikash   25      butwal  9807464666\n",
       "5    Manoj   25  kapilvastu  9857026038\n",
       "6   Bishal   26       kaski  9847091671"
      ]
     },
     "execution_count": 14,
     "metadata": {},
     "output_type": "execute_result"
    }
   ],
   "source": [
    "import pandas as pd\n",
    "df = pd.read_csv(\"data.csv\",index_col=\"sn\")\n",
    "df"
   ]
  },
  {
   "cell_type": "code",
   "execution_count": 16,
   "id": "a13344dd",
   "metadata": {},
   "outputs": [
    {
     "data": {
      "text/html": [
       "<div>\n",
       "<style scoped>\n",
       "    .dataframe tbody tr th:only-of-type {\n",
       "        vertical-align: middle;\n",
       "    }\n",
       "\n",
       "    .dataframe tbody tr th {\n",
       "        vertical-align: top;\n",
       "    }\n",
       "\n",
       "    .dataframe thead th {\n",
       "        text-align: right;\n",
       "    }\n",
       "</style>\n",
       "<table border=\"1\" class=\"dataframe\">\n",
       "  <thead>\n",
       "    <tr style=\"text-align: right;\">\n",
       "      <th></th>\n",
       "      <th>name</th>\n",
       "      <th>age</th>\n",
       "      <th>add</th>\n",
       "      <th>phone</th>\n",
       "    </tr>\n",
       "    <tr>\n",
       "      <th>sn</th>\n",
       "      <th></th>\n",
       "      <th></th>\n",
       "      <th></th>\n",
       "      <th></th>\n",
       "    </tr>\n",
       "  </thead>\n",
       "  <tbody>\n",
       "    <tr>\n",
       "      <th>1</th>\n",
       "      <td>Ram</td>\n",
       "      <td>23</td>\n",
       "      <td>Kathmandu</td>\n",
       "      <td>9869850620</td>\n",
       "    </tr>\n",
       "    <tr>\n",
       "      <th>2</th>\n",
       "      <td>Hari</td>\n",
       "      <td>24</td>\n",
       "      <td>pokhara</td>\n",
       "      <td>9857052061</td>\n",
       "    </tr>\n",
       "    <tr>\n",
       "      <th>3</th>\n",
       "      <td>Shyam</td>\n",
       "      <td>25</td>\n",
       "      <td>jhapa</td>\n",
       "      <td>9847407810</td>\n",
       "    </tr>\n",
       "  </tbody>\n",
       "</table>\n",
       "</div>"
      ],
      "text/plain": [
       "     name  age        add       phone\n",
       "sn                                   \n",
       "1     Ram   23  Kathmandu  9869850620\n",
       "2    Hari   24    pokhara  9857052061\n",
       "3   Shyam   25      jhapa  9847407810"
      ]
     },
     "execution_count": 16,
     "metadata": {},
     "output_type": "execute_result"
    }
   ],
   "source": [
    "import pandas as pd\n",
    "df = pd.read_csv(\"data.csv\",index_col=\"sn\")\n",
    "df.head(3)"
   ]
  },
  {
   "cell_type": "code",
   "execution_count": 18,
   "id": "f65d1feb",
   "metadata": {},
   "outputs": [
    {
     "data": {
      "text/html": [
       "<div>\n",
       "<style scoped>\n",
       "    .dataframe tbody tr th:only-of-type {\n",
       "        vertical-align: middle;\n",
       "    }\n",
       "\n",
       "    .dataframe tbody tr th {\n",
       "        vertical-align: top;\n",
       "    }\n",
       "\n",
       "    .dataframe thead th {\n",
       "        text-align: right;\n",
       "    }\n",
       "</style>\n",
       "<table border=\"1\" class=\"dataframe\">\n",
       "  <thead>\n",
       "    <tr style=\"text-align: right;\">\n",
       "      <th></th>\n",
       "      <th>name</th>\n",
       "      <th>age</th>\n",
       "      <th>add</th>\n",
       "      <th>phone</th>\n",
       "    </tr>\n",
       "    <tr>\n",
       "      <th>sn</th>\n",
       "      <th></th>\n",
       "      <th></th>\n",
       "      <th></th>\n",
       "      <th></th>\n",
       "    </tr>\n",
       "  </thead>\n",
       "  <tbody>\n",
       "    <tr>\n",
       "      <th>4</th>\n",
       "      <td>Bikash</td>\n",
       "      <td>25</td>\n",
       "      <td>butwal</td>\n",
       "      <td>9807464666</td>\n",
       "    </tr>\n",
       "    <tr>\n",
       "      <th>5</th>\n",
       "      <td>Manoj</td>\n",
       "      <td>25</td>\n",
       "      <td>kapilvastu</td>\n",
       "      <td>9857026038</td>\n",
       "    </tr>\n",
       "    <tr>\n",
       "      <th>6</th>\n",
       "      <td>Bishal</td>\n",
       "      <td>26</td>\n",
       "      <td>kaski</td>\n",
       "      <td>9847091671</td>\n",
       "    </tr>\n",
       "  </tbody>\n",
       "</table>\n",
       "</div>"
      ],
      "text/plain": [
       "      name  age         add       phone\n",
       "sn                                     \n",
       "4   Bikash   25      butwal  9807464666\n",
       "5    Manoj   25  kapilvastu  9857026038\n",
       "6   Bishal   26       kaski  9847091671"
      ]
     },
     "execution_count": 18,
     "metadata": {},
     "output_type": "execute_result"
    }
   ],
   "source": [
    "import pandas as pd\n",
    "df = pd.read_csv(\"data.csv\",index_col=\"sn\")\n",
    "df.tail(3)"
   ]
  },
  {
   "cell_type": "code",
   "execution_count": 21,
   "id": "05c86153",
   "metadata": {},
   "outputs": [
    {
     "data": {
      "text/html": [
       "<div>\n",
       "<style scoped>\n",
       "    .dataframe tbody tr th:only-of-type {\n",
       "        vertical-align: middle;\n",
       "    }\n",
       "\n",
       "    .dataframe tbody tr th {\n",
       "        vertical-align: top;\n",
       "    }\n",
       "\n",
       "    .dataframe thead th {\n",
       "        text-align: right;\n",
       "    }\n",
       "</style>\n",
       "<table border=\"1\" class=\"dataframe\">\n",
       "  <thead>\n",
       "    <tr style=\"text-align: right;\">\n",
       "      <th></th>\n",
       "      <th>name</th>\n",
       "      <th>age</th>\n",
       "      <th>add</th>\n",
       "      <th>phone</th>\n",
       "    </tr>\n",
       "    <tr>\n",
       "      <th>sn</th>\n",
       "      <th></th>\n",
       "      <th></th>\n",
       "      <th></th>\n",
       "      <th></th>\n",
       "    </tr>\n",
       "  </thead>\n",
       "  <tbody>\n",
       "    <tr>\n",
       "      <th>2</th>\n",
       "      <td>Hari</td>\n",
       "      <td>24</td>\n",
       "      <td>pokhara</td>\n",
       "      <td>9857052061</td>\n",
       "    </tr>\n",
       "    <tr>\n",
       "      <th>3</th>\n",
       "      <td>Shyam</td>\n",
       "      <td>25</td>\n",
       "      <td>jhapa</td>\n",
       "      <td>9847407810</td>\n",
       "    </tr>\n",
       "    <tr>\n",
       "      <th>4</th>\n",
       "      <td>Bikash</td>\n",
       "      <td>25</td>\n",
       "      <td>butwal</td>\n",
       "      <td>9807464666</td>\n",
       "    </tr>\n",
       "  </tbody>\n",
       "</table>\n",
       "</div>"
      ],
      "text/plain": [
       "      name  age      add       phone\n",
       "sn                                  \n",
       "2     Hari   24  pokhara  9857052061\n",
       "3    Shyam   25    jhapa  9847407810\n",
       "4   Bikash   25   butwal  9807464666"
      ]
     },
     "execution_count": 21,
     "metadata": {},
     "output_type": "execute_result"
    }
   ],
   "source": [
    "import pandas as pd\n",
    "df = pd.read_csv(\"data.csv\",index_col=\"sn\")\n",
    "df.iloc[1:4]"
   ]
  },
  {
   "cell_type": "code",
   "execution_count": 24,
   "id": "55ad4b97",
   "metadata": {},
   "outputs": [
    {
     "data": {
      "text/html": [
       "<div>\n",
       "<style scoped>\n",
       "    .dataframe tbody tr th:only-of-type {\n",
       "        vertical-align: middle;\n",
       "    }\n",
       "\n",
       "    .dataframe tbody tr th {\n",
       "        vertical-align: top;\n",
       "    }\n",
       "\n",
       "    .dataframe thead th {\n",
       "        text-align: right;\n",
       "    }\n",
       "</style>\n",
       "<table border=\"1\" class=\"dataframe\">\n",
       "  <thead>\n",
       "    <tr style=\"text-align: right;\">\n",
       "      <th></th>\n",
       "      <th>name</th>\n",
       "      <th>age</th>\n",
       "      <th>add</th>\n",
       "      <th>phone</th>\n",
       "    </tr>\n",
       "    <tr>\n",
       "      <th>sn</th>\n",
       "      <th></th>\n",
       "      <th></th>\n",
       "      <th></th>\n",
       "      <th></th>\n",
       "    </tr>\n",
       "  </thead>\n",
       "  <tbody>\n",
       "    <tr>\n",
       "      <th>2</th>\n",
       "      <td>Hari</td>\n",
       "      <td>24</td>\n",
       "      <td>pokhara</td>\n",
       "      <td>9857052061</td>\n",
       "    </tr>\n",
       "    <tr>\n",
       "      <th>3</th>\n",
       "      <td>Shyam</td>\n",
       "      <td>25</td>\n",
       "      <td>jhapa</td>\n",
       "      <td>9847407810</td>\n",
       "    </tr>\n",
       "    <tr>\n",
       "      <th>4</th>\n",
       "      <td>Bikash</td>\n",
       "      <td>25</td>\n",
       "      <td>butwal</td>\n",
       "      <td>9807464666</td>\n",
       "    </tr>\n",
       "    <tr>\n",
       "      <th>5</th>\n",
       "      <td>Manoj</td>\n",
       "      <td>25</td>\n",
       "      <td>kapilvastu</td>\n",
       "      <td>9857026038</td>\n",
       "    </tr>\n",
       "  </tbody>\n",
       "</table>\n",
       "</div>"
      ],
      "text/plain": [
       "      name  age         add       phone\n",
       "sn                                     \n",
       "2     Hari   24     pokhara  9857052061\n",
       "3    Shyam   25       jhapa  9847407810\n",
       "4   Bikash   25      butwal  9807464666\n",
       "5    Manoj   25  kapilvastu  9857026038"
      ]
     },
     "execution_count": 24,
     "metadata": {},
     "output_type": "execute_result"
    }
   ],
   "source": [
    "#Getting data without index .....\n",
    "import pandas as pd\n",
    "df = pd.read_csv(\"data.csv\",index_col=\"sn\")\n",
    "df.loc[2:5]"
   ]
  },
  {
   "cell_type": "code",
   "execution_count": 29,
   "id": "d76122da",
   "metadata": {},
   "outputs": [
    {
     "data": {
      "text/plain": [
       "sn\n",
       "1     Kathmandu\n",
       "2       pokhara\n",
       "3         jhapa\n",
       "4        butwal\n",
       "5    kapilvastu\n",
       "6         kaski\n",
       "Name: add, dtype: object"
      ]
     },
     "execution_count": 29,
     "metadata": {},
     "output_type": "execute_result"
    }
   ],
   "source": [
    "#Filtering\n",
    "import pandas as pd\n",
    "df = pd.read_csv(\"data.csv\",index_col=\"sn\")\n",
    "df[\"add\"]"
   ]
  },
  {
   "cell_type": "code",
   "execution_count": 3,
   "id": "f4a51e9b",
   "metadata": {},
   "outputs": [
    {
     "data": {
      "text/plain": [
       "sn\n",
       "1     True\n",
       "2    False\n",
       "3    False\n",
       "4    False\n",
       "5    False\n",
       "6    False\n",
       "Name: add, dtype: bool"
      ]
     },
     "execution_count": 3,
     "metadata": {},
     "output_type": "execute_result"
    }
   ],
   "source": [
    "import pandas as pd\n",
    "df = pd.read_csv(\"data.csv\",index_col=\"sn\")\n",
    "df[\"add\"]==\"Kathmandu\""
   ]
  },
  {
   "cell_type": "code",
   "execution_count": 5,
   "id": "54e921ec",
   "metadata": {},
   "outputs": [
    {
     "data": {
      "text/html": [
       "<div>\n",
       "<style scoped>\n",
       "    .dataframe tbody tr th:only-of-type {\n",
       "        vertical-align: middle;\n",
       "    }\n",
       "\n",
       "    .dataframe tbody tr th {\n",
       "        vertical-align: top;\n",
       "    }\n",
       "\n",
       "    .dataframe thead th {\n",
       "        text-align: right;\n",
       "    }\n",
       "</style>\n",
       "<table border=\"1\" class=\"dataframe\">\n",
       "  <thead>\n",
       "    <tr style=\"text-align: right;\">\n",
       "      <th></th>\n",
       "      <th>name</th>\n",
       "      <th>age</th>\n",
       "      <th>add</th>\n",
       "      <th>phone</th>\n",
       "    </tr>\n",
       "    <tr>\n",
       "      <th>sn</th>\n",
       "      <th></th>\n",
       "      <th></th>\n",
       "      <th></th>\n",
       "      <th></th>\n",
       "    </tr>\n",
       "  </thead>\n",
       "  <tbody>\n",
       "    <tr>\n",
       "      <th>1</th>\n",
       "      <td>Ram</td>\n",
       "      <td>23</td>\n",
       "      <td>Kathmandu</td>\n",
       "      <td>9869850620</td>\n",
       "    </tr>\n",
       "  </tbody>\n",
       "</table>\n",
       "</div>"
      ],
      "text/plain": [
       "   name  age        add       phone\n",
       "sn                                 \n",
       "1   Ram   23  Kathmandu  9869850620"
      ]
     },
     "execution_count": 5,
     "metadata": {},
     "output_type": "execute_result"
    }
   ],
   "source": [
    "import pandas as pd\n",
    "df = pd.read_csv(\"data.csv\",index_col=\"sn\")\n",
    "df[df[\"add\"]==\"Kathmandu\"]"
   ]
  },
  {
   "cell_type": "code",
   "execution_count": 7,
   "id": "6ed99690",
   "metadata": {},
   "outputs": [
    {
     "data": {
      "text/html": [
       "<div>\n",
       "<style scoped>\n",
       "    .dataframe tbody tr th:only-of-type {\n",
       "        vertical-align: middle;\n",
       "    }\n",
       "\n",
       "    .dataframe tbody tr th {\n",
       "        vertical-align: top;\n",
       "    }\n",
       "\n",
       "    .dataframe thead th {\n",
       "        text-align: right;\n",
       "    }\n",
       "</style>\n",
       "<table border=\"1\" class=\"dataframe\">\n",
       "  <thead>\n",
       "    <tr style=\"text-align: right;\">\n",
       "      <th></th>\n",
       "      <th>name</th>\n",
       "      <th>age</th>\n",
       "      <th>add</th>\n",
       "      <th>phone</th>\n",
       "    </tr>\n",
       "    <tr>\n",
       "      <th>sn</th>\n",
       "      <th></th>\n",
       "      <th></th>\n",
       "      <th></th>\n",
       "      <th></th>\n",
       "    </tr>\n",
       "  </thead>\n",
       "  <tbody>\n",
       "    <tr>\n",
       "      <th>6</th>\n",
       "      <td>Bishal</td>\n",
       "      <td>26</td>\n",
       "      <td>kaski</td>\n",
       "      <td>9847091671</td>\n",
       "    </tr>\n",
       "  </tbody>\n",
       "</table>\n",
       "</div>"
      ],
      "text/plain": [
       "      name  age    add       phone\n",
       "sn                                \n",
       "6   Bishal   26  kaski  9847091671"
      ]
     },
     "execution_count": 7,
     "metadata": {},
     "output_type": "execute_result"
    }
   ],
   "source": [
    "import pandas as pd\n",
    "df = pd.read_csv(\"data.csv\",index_col=\"sn\")\n",
    "df[df[\"age\"]>25]"
   ]
  },
  {
   "cell_type": "code",
   "execution_count": 13,
   "id": "1363eba9",
   "metadata": {},
   "outputs": [
    {
     "data": {
      "text/html": [
       "<div>\n",
       "<style scoped>\n",
       "    .dataframe tbody tr th:only-of-type {\n",
       "        vertical-align: middle;\n",
       "    }\n",
       "\n",
       "    .dataframe tbody tr th {\n",
       "        vertical-align: top;\n",
       "    }\n",
       "\n",
       "    .dataframe thead th {\n",
       "        text-align: right;\n",
       "    }\n",
       "</style>\n",
       "<table border=\"1\" class=\"dataframe\">\n",
       "  <thead>\n",
       "    <tr style=\"text-align: right;\">\n",
       "      <th></th>\n",
       "      <th>name</th>\n",
       "      <th>age</th>\n",
       "      <th>add</th>\n",
       "      <th>phone</th>\n",
       "    </tr>\n",
       "    <tr>\n",
       "      <th>sn</th>\n",
       "      <th></th>\n",
       "      <th></th>\n",
       "      <th></th>\n",
       "      <th></th>\n",
       "    </tr>\n",
       "  </thead>\n",
       "  <tbody>\n",
       "    <tr>\n",
       "      <th>6</th>\n",
       "      <td>Bishal</td>\n",
       "      <td>26</td>\n",
       "      <td>Kathmandu</td>\n",
       "      <td>9847091671</td>\n",
       "    </tr>\n",
       "  </tbody>\n",
       "</table>\n",
       "</div>"
      ],
      "text/plain": [
       "      name  age        add       phone\n",
       "sn                                    \n",
       "6   Bishal   26  Kathmandu  9847091671"
      ]
     },
     "execution_count": 13,
     "metadata": {},
     "output_type": "execute_result"
    }
   ],
   "source": [
    "import pandas as pd\n",
    "df = pd.read_csv(\"data.csv\",index_col=\"sn\")\n",
    "df[(df[\"age\"]>25) & (df[\"add\"]==\"Kathmandu\")] "
   ]
  },
  {
   "cell_type": "code",
   "execution_count": 6,
   "id": "4d5a7321",
   "metadata": {},
   "outputs": [],
   "source": [
    "import pandas as pd\n",
    "df = pd.read_csv(\"data.csv\",index_col=\"sn\")\n",
    "data=df[(df[\"age\"]>25) & (df[\"add\"]==\"Kathmandu\")] \n",
    "data.to_csv(\"new_data.csv\")"
   ]
  },
  {
   "cell_type": "code",
   "execution_count": 9,
   "id": "d262ddfc",
   "metadata": {},
   "outputs": [
    {
     "data": {
      "text/html": [
       "<div>\n",
       "<style scoped>\n",
       "    .dataframe tbody tr th:only-of-type {\n",
       "        vertical-align: middle;\n",
       "    }\n",
       "\n",
       "    .dataframe tbody tr th {\n",
       "        vertical-align: top;\n",
       "    }\n",
       "\n",
       "    .dataframe thead th {\n",
       "        text-align: right;\n",
       "    }\n",
       "</style>\n",
       "<table border=\"1\" class=\"dataframe\">\n",
       "  <thead>\n",
       "    <tr style=\"text-align: right;\">\n",
       "      <th></th>\n",
       "      <th>name</th>\n",
       "      <th>age</th>\n",
       "      <th>add</th>\n",
       "    </tr>\n",
       "  </thead>\n",
       "  <tbody>\n",
       "    <tr>\n",
       "      <th>0</th>\n",
       "      <td>Ram</td>\n",
       "      <td>23</td>\n",
       "      <td>ktm</td>\n",
       "    </tr>\n",
       "    <tr>\n",
       "      <th>1</th>\n",
       "      <td>Shyam</td>\n",
       "      <td>24</td>\n",
       "      <td>Pkr</td>\n",
       "    </tr>\n",
       "    <tr>\n",
       "      <th>2</th>\n",
       "      <td>Hari</td>\n",
       "      <td>24</td>\n",
       "      <td>btw</td>\n",
       "    </tr>\n",
       "    <tr>\n",
       "      <th>3</th>\n",
       "      <td>sita</td>\n",
       "      <td>25</td>\n",
       "      <td>brj</td>\n",
       "    </tr>\n",
       "    <tr>\n",
       "      <th>4</th>\n",
       "      <td>Gita</td>\n",
       "      <td>26</td>\n",
       "      <td>ctw</td>\n",
       "    </tr>\n",
       "  </tbody>\n",
       "</table>\n",
       "</div>"
      ],
      "text/plain": [
       "    name  age  add\n",
       "0    Ram   23  ktm\n",
       "1  Shyam   24  Pkr\n",
       "2   Hari   24  btw\n",
       "3   sita   25  brj\n",
       "4   Gita   26  ctw"
      ]
     },
     "execution_count": 9,
     "metadata": {},
     "output_type": "execute_result"
    }
   ],
   "source": [
    "#list inside dict\n",
    "import pandas as pd\n",
    "\n",
    "data={'name':['Ram','Shyam','Hari','sita','Gita'],\n",
    "      'age':[23,24,24,25,26],\n",
    "     'add':['ktm','Pkr','btw','brj','ctw']}\n",
    "df=pd.DataFrame(data)\n",
    "df.to_csv('new_data.csv')\n",
    "df"
   ]
  },
  {
   "cell_type": "code",
   "execution_count": 4,
   "id": "a34f6eb8",
   "metadata": {},
   "outputs": [],
   "source": [
    "file=open('new_data.csv','a')\n",
    "file.write('\\n,Sameer,45,Ktm,9847407810')\n",
    "file.close()"
   ]
  },
  {
   "cell_type": "code",
   "execution_count": 9,
   "id": "4af04de7",
   "metadata": {},
   "outputs": [],
   "source": [
    "\n",
    "import csv\n",
    "data=[['name','age','add'],\n",
    "      ['Ram',45,'ktm'],\n",
    "      ['Handsome',22,'Bandauli'],\n",
    "      ['simran',18,'jinuwa']]\n",
    "file=open('list_data.csv','w')\n",
    "x=csv.writer(file)\n",
    "x.writerows(data)\n",
    "file.close()\n"
   ]
  },
  {
   "cell_type": "code",
   "execution_count": 1,
   "id": "4d081e9a",
   "metadata": {},
   "outputs": [
    {
     "ename": "NameError",
     "evalue": "name 'pd' is not defined",
     "output_type": "error",
     "traceback": [
      "\u001b[1;31m---------------------------------------------------------------------------\u001b[0m",
      "\u001b[1;31mNameError\u001b[0m                                 Traceback (most recent call last)",
      "\u001b[1;32m~\\AppData\\Local\\Temp\\ipykernel_6320\\1183959036.py\u001b[0m in \u001b[0;36m<module>\u001b[1;34m\u001b[0m\n\u001b[0;32m      8\u001b[0m \u001b[0mx\u001b[0m\u001b[1;33m.\u001b[0m\u001b[0mwriterows\u001b[0m\u001b[1;33m(\u001b[0m\u001b[0mdata\u001b[0m\u001b[1;33m)\u001b[0m\u001b[1;33m\u001b[0m\u001b[1;33m\u001b[0m\u001b[0m\n\u001b[0;32m      9\u001b[0m \u001b[0mfile\u001b[0m\u001b[1;33m.\u001b[0m\u001b[0mclose\u001b[0m\u001b[1;33m(\u001b[0m\u001b[1;33m)\u001b[0m\u001b[1;33m\u001b[0m\u001b[1;33m\u001b[0m\u001b[0m\n\u001b[1;32m---> 10\u001b[1;33m \u001b[0mdf\u001b[0m\u001b[1;33m=\u001b[0m\u001b[0mpd\u001b[0m\u001b[1;33m.\u001b[0m\u001b[0mread_csv\u001b[0m\u001b[1;33m(\u001b[0m\u001b[0mlist_data\u001b[0m\u001b[1;33m.\u001b[0m\u001b[0mcsv\u001b[0m\u001b[1;33m)\u001b[0m\u001b[1;33m\u001b[0m\u001b[1;33m\u001b[0m\u001b[0m\n\u001b[0m\u001b[0;32m     11\u001b[0m \u001b[0mdf\u001b[0m\u001b[1;33m\u001b[0m\u001b[1;33m\u001b[0m\u001b[0m\n",
      "\u001b[1;31mNameError\u001b[0m: name 'pd' is not defined"
     ]
    }
   ],
   "source": [
    "import csv\n",
    "data=[['name','age','add'],\n",
    "      ['Ram',45,'ktm'],\n",
    "      ['Handsome',22,'Bandauli'],\n",
    "      ['simran',18,'jinuwa']]\n",
    "file=open('list_data.csv','w')\n",
    "x=csv.writer(file)\n",
    "x.writerows(data)\n",
    "file.close()\n",
    "df=pd.read_csv(list_data.csv)\n",
    "df\n"
   ]
  },
  {
   "cell_type": "code",
   "execution_count": 2,
   "id": "01e363c6",
   "metadata": {},
   "outputs": [],
   "source": [
    "import csv\n",
    "data = []\n",
    "with open()"
   ]
  },
  {
   "cell_type": "code",
   "execution_count": 3,
   "id": "8e4c84ea",
   "metadata": {},
   "outputs": [],
   "source": [
    "import csv\n",
    "csv_columns=['Name','Age','Address']\n",
    "dict = {}"
   ]
  },
  {
   "cell_type": "code",
   "execution_count": 3,
   "id": "4724d8e9",
   "metadata": {},
   "outputs": [],
   "source": [
    "import pandas as pd\n",
    "\n",
    "df1 = pd.DataFrame({'Names': ['Andreas', 'George', 'Steve',\n",
    "\n",
    "'Sarah', 'Joanna', 'Hanna'],\n",
    "\n",
    "'Age':[21, 22, 20, 19, 18, 23]})\n",
    "\n",
    "df2 = pd.DataFrame({'Names': ['Pete', 'Jordan', 'Gustaf',\n",
    "\n",
    "'Sophie', 'Sally', 'Simone'],\n",
    "\n",
    "'Age':[22, 21, 19, 19, 29, 21]})\n",
    "\n",
    "df3 = pd.DataFrame({'Names': ['Ulrich', 'Donald', 'Jon',\n",
    "\n",
    "'Jessica', 'Elisabeth', 'Diana'],\n",
    "\n",
    "'Age':[21, 21, 20, 19, 19, 22]})\n",
    "\n",
    "df = pd.concat([df1, df2, df3], keys =['Group1', 'Group2', 'Group3'],\n",
    "\n",
    "names=['Group', 'Row Num']).reset_index()\n",
    "\n",
    "df.to_csv('boooks.csv', index=False)"
   ]
  },
  {
   "cell_type": "code",
   "execution_count": 7,
   "id": "5f5e8b95",
   "metadata": {},
   "outputs": [
    {
     "ename": "FileNotFoundError",
     "evalue": "[Errno 2] No such file or directory: 'books.csv'",
     "output_type": "error",
     "traceback": [
      "\u001b[1;31m---------------------------------------------------------------------------\u001b[0m",
      "\u001b[1;31mFileNotFoundError\u001b[0m                         Traceback (most recent call last)",
      "\u001b[1;32m~\\AppData\\Local\\Temp\\ipykernel_8208\\634637418.py\u001b[0m in \u001b[0;36m<module>\u001b[1;34m\u001b[0m\n\u001b[0;32m      1\u001b[0m \u001b[1;32mimport\u001b[0m \u001b[0mpandas\u001b[0m \u001b[1;32mas\u001b[0m \u001b[0mpd\u001b[0m\u001b[1;33m\u001b[0m\u001b[1;33m\u001b[0m\u001b[0m\n\u001b[1;32m----> 2\u001b[1;33m \u001b[0mdf\u001b[0m\u001b[1;33m=\u001b[0m\u001b[0mpd\u001b[0m\u001b[1;33m.\u001b[0m\u001b[0mread_csv\u001b[0m\u001b[1;33m(\u001b[0m\u001b[1;34m'books.csv'\u001b[0m\u001b[1;33m,\u001b[0m\u001b[0musecols\u001b[0m\u001b[1;33m=\u001b[0m\u001b[1;33m[\u001b[0m\u001b[1;34m'Names'\u001b[0m\u001b[1;33m,\u001b[0m\u001b[1;34m'Age'\u001b[0m\u001b[1;33m]\u001b[0m\u001b[1;33m)\u001b[0m\u001b[1;33m\u001b[0m\u001b[1;33m\u001b[0m\u001b[0m\n\u001b[0m\u001b[0;32m      3\u001b[0m \u001b[0mdf\u001b[0m\u001b[1;33m\u001b[0m\u001b[1;33m\u001b[0m\u001b[0m\n",
      "\u001b[1;32mC:\\ProgramData\\Anaconda3\\lib\\site-packages\\pandas\\util\\_decorators.py\u001b[0m in \u001b[0;36mwrapper\u001b[1;34m(*args, **kwargs)\u001b[0m\n\u001b[0;32m    309\u001b[0m                     \u001b[0mstacklevel\u001b[0m\u001b[1;33m=\u001b[0m\u001b[0mstacklevel\u001b[0m\u001b[1;33m,\u001b[0m\u001b[1;33m\u001b[0m\u001b[1;33m\u001b[0m\u001b[0m\n\u001b[0;32m    310\u001b[0m                 )\n\u001b[1;32m--> 311\u001b[1;33m             \u001b[1;32mreturn\u001b[0m \u001b[0mfunc\u001b[0m\u001b[1;33m(\u001b[0m\u001b[1;33m*\u001b[0m\u001b[0margs\u001b[0m\u001b[1;33m,\u001b[0m \u001b[1;33m**\u001b[0m\u001b[0mkwargs\u001b[0m\u001b[1;33m)\u001b[0m\u001b[1;33m\u001b[0m\u001b[1;33m\u001b[0m\u001b[0m\n\u001b[0m\u001b[0;32m    312\u001b[0m \u001b[1;33m\u001b[0m\u001b[0m\n\u001b[0;32m    313\u001b[0m         \u001b[1;32mreturn\u001b[0m \u001b[0mwrapper\u001b[0m\u001b[1;33m\u001b[0m\u001b[1;33m\u001b[0m\u001b[0m\n",
      "\u001b[1;32mC:\\ProgramData\\Anaconda3\\lib\\site-packages\\pandas\\io\\parsers\\readers.py\u001b[0m in \u001b[0;36mread_csv\u001b[1;34m(filepath_or_buffer, sep, delimiter, header, names, index_col, usecols, squeeze, prefix, mangle_dupe_cols, dtype, engine, converters, true_values, false_values, skipinitialspace, skiprows, skipfooter, nrows, na_values, keep_default_na, na_filter, verbose, skip_blank_lines, parse_dates, infer_datetime_format, keep_date_col, date_parser, dayfirst, cache_dates, iterator, chunksize, compression, thousands, decimal, lineterminator, quotechar, quoting, doublequote, escapechar, comment, encoding, encoding_errors, dialect, error_bad_lines, warn_bad_lines, on_bad_lines, delim_whitespace, low_memory, memory_map, float_precision, storage_options)\u001b[0m\n\u001b[0;32m    676\u001b[0m     \u001b[0mkwds\u001b[0m\u001b[1;33m.\u001b[0m\u001b[0mupdate\u001b[0m\u001b[1;33m(\u001b[0m\u001b[0mkwds_defaults\u001b[0m\u001b[1;33m)\u001b[0m\u001b[1;33m\u001b[0m\u001b[1;33m\u001b[0m\u001b[0m\n\u001b[0;32m    677\u001b[0m \u001b[1;33m\u001b[0m\u001b[0m\n\u001b[1;32m--> 678\u001b[1;33m     \u001b[1;32mreturn\u001b[0m \u001b[0m_read\u001b[0m\u001b[1;33m(\u001b[0m\u001b[0mfilepath_or_buffer\u001b[0m\u001b[1;33m,\u001b[0m \u001b[0mkwds\u001b[0m\u001b[1;33m)\u001b[0m\u001b[1;33m\u001b[0m\u001b[1;33m\u001b[0m\u001b[0m\n\u001b[0m\u001b[0;32m    679\u001b[0m \u001b[1;33m\u001b[0m\u001b[0m\n\u001b[0;32m    680\u001b[0m \u001b[1;33m\u001b[0m\u001b[0m\n",
      "\u001b[1;32mC:\\ProgramData\\Anaconda3\\lib\\site-packages\\pandas\\io\\parsers\\readers.py\u001b[0m in \u001b[0;36m_read\u001b[1;34m(filepath_or_buffer, kwds)\u001b[0m\n\u001b[0;32m    573\u001b[0m \u001b[1;33m\u001b[0m\u001b[0m\n\u001b[0;32m    574\u001b[0m     \u001b[1;31m# Create the parser.\u001b[0m\u001b[1;33m\u001b[0m\u001b[1;33m\u001b[0m\u001b[0m\n\u001b[1;32m--> 575\u001b[1;33m     \u001b[0mparser\u001b[0m \u001b[1;33m=\u001b[0m \u001b[0mTextFileReader\u001b[0m\u001b[1;33m(\u001b[0m\u001b[0mfilepath_or_buffer\u001b[0m\u001b[1;33m,\u001b[0m \u001b[1;33m**\u001b[0m\u001b[0mkwds\u001b[0m\u001b[1;33m)\u001b[0m\u001b[1;33m\u001b[0m\u001b[1;33m\u001b[0m\u001b[0m\n\u001b[0m\u001b[0;32m    576\u001b[0m \u001b[1;33m\u001b[0m\u001b[0m\n\u001b[0;32m    577\u001b[0m     \u001b[1;32mif\u001b[0m \u001b[0mchunksize\u001b[0m \u001b[1;32mor\u001b[0m \u001b[0miterator\u001b[0m\u001b[1;33m:\u001b[0m\u001b[1;33m\u001b[0m\u001b[1;33m\u001b[0m\u001b[0m\n",
      "\u001b[1;32mC:\\ProgramData\\Anaconda3\\lib\\site-packages\\pandas\\io\\parsers\\readers.py\u001b[0m in \u001b[0;36m__init__\u001b[1;34m(self, f, engine, **kwds)\u001b[0m\n\u001b[0;32m    930\u001b[0m \u001b[1;33m\u001b[0m\u001b[0m\n\u001b[0;32m    931\u001b[0m         \u001b[0mself\u001b[0m\u001b[1;33m.\u001b[0m\u001b[0mhandles\u001b[0m\u001b[1;33m:\u001b[0m \u001b[0mIOHandles\u001b[0m \u001b[1;33m|\u001b[0m \u001b[1;32mNone\u001b[0m \u001b[1;33m=\u001b[0m \u001b[1;32mNone\u001b[0m\u001b[1;33m\u001b[0m\u001b[1;33m\u001b[0m\u001b[0m\n\u001b[1;32m--> 932\u001b[1;33m         \u001b[0mself\u001b[0m\u001b[1;33m.\u001b[0m\u001b[0m_engine\u001b[0m \u001b[1;33m=\u001b[0m \u001b[0mself\u001b[0m\u001b[1;33m.\u001b[0m\u001b[0m_make_engine\u001b[0m\u001b[1;33m(\u001b[0m\u001b[0mf\u001b[0m\u001b[1;33m,\u001b[0m \u001b[0mself\u001b[0m\u001b[1;33m.\u001b[0m\u001b[0mengine\u001b[0m\u001b[1;33m)\u001b[0m\u001b[1;33m\u001b[0m\u001b[1;33m\u001b[0m\u001b[0m\n\u001b[0m\u001b[0;32m    933\u001b[0m \u001b[1;33m\u001b[0m\u001b[0m\n\u001b[0;32m    934\u001b[0m     \u001b[1;32mdef\u001b[0m \u001b[0mclose\u001b[0m\u001b[1;33m(\u001b[0m\u001b[0mself\u001b[0m\u001b[1;33m)\u001b[0m\u001b[1;33m:\u001b[0m\u001b[1;33m\u001b[0m\u001b[1;33m\u001b[0m\u001b[0m\n",
      "\u001b[1;32mC:\\ProgramData\\Anaconda3\\lib\\site-packages\\pandas\\io\\parsers\\readers.py\u001b[0m in \u001b[0;36m_make_engine\u001b[1;34m(self, f, engine)\u001b[0m\n\u001b[0;32m   1214\u001b[0m             \u001b[1;31m# \"Union[str, PathLike[str], ReadCsvBuffer[bytes], ReadCsvBuffer[str]]\"\u001b[0m\u001b[1;33m\u001b[0m\u001b[1;33m\u001b[0m\u001b[0m\n\u001b[0;32m   1215\u001b[0m             \u001b[1;31m# , \"str\", \"bool\", \"Any\", \"Any\", \"Any\", \"Any\", \"Any\"\u001b[0m\u001b[1;33m\u001b[0m\u001b[1;33m\u001b[0m\u001b[0m\n\u001b[1;32m-> 1216\u001b[1;33m             self.handles = get_handle(  # type: ignore[call-overload]\n\u001b[0m\u001b[0;32m   1217\u001b[0m                 \u001b[0mf\u001b[0m\u001b[1;33m,\u001b[0m\u001b[1;33m\u001b[0m\u001b[1;33m\u001b[0m\u001b[0m\n\u001b[0;32m   1218\u001b[0m                 \u001b[0mmode\u001b[0m\u001b[1;33m,\u001b[0m\u001b[1;33m\u001b[0m\u001b[1;33m\u001b[0m\u001b[0m\n",
      "\u001b[1;32mC:\\ProgramData\\Anaconda3\\lib\\site-packages\\pandas\\io\\common.py\u001b[0m in \u001b[0;36mget_handle\u001b[1;34m(path_or_buf, mode, encoding, compression, memory_map, is_text, errors, storage_options)\u001b[0m\n\u001b[0;32m    784\u001b[0m         \u001b[1;32mif\u001b[0m \u001b[0mioargs\u001b[0m\u001b[1;33m.\u001b[0m\u001b[0mencoding\u001b[0m \u001b[1;32mand\u001b[0m \u001b[1;34m\"b\"\u001b[0m \u001b[1;32mnot\u001b[0m \u001b[1;32min\u001b[0m \u001b[0mioargs\u001b[0m\u001b[1;33m.\u001b[0m\u001b[0mmode\u001b[0m\u001b[1;33m:\u001b[0m\u001b[1;33m\u001b[0m\u001b[1;33m\u001b[0m\u001b[0m\n\u001b[0;32m    785\u001b[0m             \u001b[1;31m# Encoding\u001b[0m\u001b[1;33m\u001b[0m\u001b[1;33m\u001b[0m\u001b[0m\n\u001b[1;32m--> 786\u001b[1;33m             handle = open(\n\u001b[0m\u001b[0;32m    787\u001b[0m                 \u001b[0mhandle\u001b[0m\u001b[1;33m,\u001b[0m\u001b[1;33m\u001b[0m\u001b[1;33m\u001b[0m\u001b[0m\n\u001b[0;32m    788\u001b[0m                 \u001b[0mioargs\u001b[0m\u001b[1;33m.\u001b[0m\u001b[0mmode\u001b[0m\u001b[1;33m,\u001b[0m\u001b[1;33m\u001b[0m\u001b[1;33m\u001b[0m\u001b[0m\n",
      "\u001b[1;31mFileNotFoundError\u001b[0m: [Errno 2] No such file or directory: 'books.csv'"
     ]
    }
   ],
   "source": [
    "import pandas as pd\n",
    "df=pd.read_csv('books.csv',usecols=['Names','Age'])\n",
    "df"
   ]
  },
  {
   "cell_type": "code",
   "execution_count": 2,
   "id": "2ddd5037",
   "metadata": {},
   "outputs": [
    {
     "name": "stdout",
     "output_type": "stream",
     "text": [
      "Collecting mysql-connector\n",
      "  Downloading mysql-connector-2.2.9.tar.gz (11.9 MB)\n",
      "     -------------------------------------- 11.9/11.9 MB 366.4 kB/s eta 0:00:00\n",
      "  Preparing metadata (setup.py): started\n",
      "  Preparing metadata (setup.py): finished with status 'done'\n",
      "Building wheels for collected packages: mysql-connector\n",
      "  Building wheel for mysql-connector (setup.py): started\n",
      "  Building wheel for mysql-connector (setup.py): finished with status 'done'\n",
      "  Created wheel for mysql-connector: filename=mysql_connector-2.2.9-cp39-cp39-win_amd64.whl size=247946 sha256=dd6f2b3f7bfba5856f982a1e20d3580f4e1da8427feaf10e4be25ae5c1d2e8fa\n",
      "  Stored in directory: c:\\users\\administrator\\appdata\\local\\pip\\cache\\wheels\\7b\\14\\39\\5aad423666e827dfe9a1fbcd111ac17171e7c9865d570780ce\n",
      "Successfully built mysql-connector\n",
      "Installing collected packages: mysql-connector\n",
      "Successfully installed mysql-connector-2.2.9\n"
     ]
    }
   ],
   "source": [
    "!pip install mysql-connector"
   ]
  },
  {
   "cell_type": "code",
   "execution_count": 5,
   "id": "3b09a3c1",
   "metadata": {},
   "outputs": [],
   "source": [
    "import mysql.connector\n",
    "\n",
    "database = mysql.connector.connect(\n",
    "    \n",
    "    \n",
    "    \n",
    "    host=\"localhost\",\n",
    "    user=\"root\",\n",
    "    password=\"\",\n",
    "    database= \"class 4:15\"\n",
    ")\n",
    "db = database.cursor()\n",
    "\n"
   ]
  },
  {
   "cell_type": "code",
   "execution_count": 6,
   "id": "3a99e9e2",
   "metadata": {},
   "outputs": [
    {
     "data": {
      "text/plain": [
       "[(1, 'Ram', 80, 76, 60, 75, 67, 412, 88.5, 'A'),\n",
       " (2, 'Shyam', 100, 50, 60, 70, 67, 456, 81.26, 'A')]"
      ]
     },
     "execution_count": 6,
     "metadata": {},
     "output_type": "execute_result"
    }
   ],
   "source": [
    "sql = \"SELECT * FROM student WHERE grade = 'A'\"\n",
    "db.execute(sql)\n",
    "result = db.fetchall()\n",
    "result"
   ]
  },
  {
   "cell_type": "code",
   "execution_count": null,
   "id": "60557f49",
   "metadata": {},
   "outputs": [],
   "source": [
    "\n",
    "Name= input(\"Enter the name:\")\n",
    "Physics=int(input(\"Enter the name:\")) \n",
    "Math= int(input(\"Enter the name:\"))\n",
    "Nepali=int(input(\"Enter the name:\"))\n",
    "English= int(input(\"Enter the name:\"))\n",
    "Chemistry= int(input(\"Enter the name:\"))\n",
    "Total= int(input(\"Enter the name:\"))\n",
    "per= int(input(\"Enter the name:\"))\n",
    "Grade= int(input(\"Enter the name:\"))\n",
    "\n",
    "sql = f'''INSERT INTO student( Name, Physics, Math, Nepali, English, Chemistry, Total, Percentage, Grade) \n",
    "VALUES ('{Name}',{Physics},{Math},{Nepali},{English},{Chemistry},{Total},{per},'{Grade}')'''\n",
    "db.execute(sql)\n",
    "database.commit()"
   ]
  },
  {
   "cell_type": "code",
   "execution_count": 1,
   "id": "56a58f91",
   "metadata": {},
   "outputs": [
    {
     "name": "stdout",
     "output_type": "stream",
     "text": [
      "HelloWorld\n"
     ]
    }
   ],
   "source": [
    "#OOP\n",
    "class Hello:\n",
    "    \n",
    "    print(\"HelloWorld\")\n",
    "obj = Hello()    "
   ]
  },
  {
   "cell_type": "code",
   "execution_count": 6,
   "id": "8af5eaaf",
   "metadata": {},
   "outputs": [
    {
     "ename": "TypeError",
     "evalue": "hello() takes 0 positional arguments but 1 was given",
     "output_type": "error",
     "traceback": [
      "\u001b[1;31m---------------------------------------------------------------------------\u001b[0m",
      "\u001b[1;31mTypeError\u001b[0m                                 Traceback (most recent call last)",
      "\u001b[1;32m~\\AppData\\Local\\Temp\\ipykernel_10736\\2877997122.py\u001b[0m in \u001b[0;36m<module>\u001b[1;34m\u001b[0m\n\u001b[0;32m      3\u001b[0m         \u001b[0mprint\u001b[0m\u001b[1;33m(\u001b[0m\u001b[1;34m\"HelloWorld\"\u001b[0m\u001b[1;33m)\u001b[0m\u001b[1;33m\u001b[0m\u001b[1;33m\u001b[0m\u001b[0m\n\u001b[0;32m      4\u001b[0m \u001b[0mobj\u001b[0m \u001b[1;33m=\u001b[0m \u001b[0mHello\u001b[0m\u001b[1;33m(\u001b[0m\u001b[1;33m)\u001b[0m\u001b[1;33m\u001b[0m\u001b[1;33m\u001b[0m\u001b[0m\n\u001b[1;32m----> 5\u001b[1;33m \u001b[0mobj\u001b[0m\u001b[1;33m.\u001b[0m\u001b[0mhello\u001b[0m\u001b[1;33m(\u001b[0m\u001b[1;33m)\u001b[0m\u001b[1;33m\u001b[0m\u001b[1;33m\u001b[0m\u001b[0m\n\u001b[0m",
      "\u001b[1;31mTypeError\u001b[0m: hello() takes 0 positional arguments but 1 was given"
     ]
    }
   ],
   "source": [
    "\n",
    "class Hello:\n",
    "    def hello():\n",
    "        print(\"HelloWorld\")\n",
    "obj = Hello()\n",
    "obj.hello()"
   ]
  },
  {
   "cell_type": "code",
   "execution_count": 8,
   "id": "8c919d4c",
   "metadata": {},
   "outputs": [
    {
     "name": "stdout",
     "output_type": "stream",
     "text": [
      "HelloWorld\n"
     ]
    }
   ],
   "source": [
    "class Hello:\n",
    "    def hello(self):\n",
    "        print(\"HelloWorld\")\n",
    "obj = Hello()\n",
    "obj.hello()"
   ]
  },
  {
   "cell_type": "code",
   "execution_count": 12,
   "id": "6412f64a",
   "metadata": {},
   "outputs": [
    {
     "name": "stdout",
     "output_type": "stream",
     "text": [
      "HelloWorld\n"
     ]
    }
   ],
   "source": [
    "class Hello:\n",
    "    \n",
    "    @staticmethod\n",
    "    def hello():\n",
    "        print(\"HelloWorld\")\n",
    "obj = Hello()\n",
    "obj.hello()"
   ]
  },
  {
   "cell_type": "code",
   "execution_count": 23,
   "id": "a21581fc",
   "metadata": {},
   "outputs": [
    {
     "ename": "NameError",
     "evalue": "name 'a' is not defined",
     "output_type": "error",
     "traceback": [
      "\u001b[1;31m---------------------------------------------------------------------------\u001b[0m",
      "\u001b[1;31mNameError\u001b[0m                                 Traceback (most recent call last)",
      "\u001b[1;32m~\\AppData\\Local\\Temp\\ipykernel_10736\\3047115105.py\u001b[0m in \u001b[0;36m<module>\u001b[1;34m\u001b[0m\n\u001b[0;32m     14\u001b[0m \u001b[0mobj\u001b[0m \u001b[1;33m=\u001b[0m \u001b[0mArea\u001b[0m\u001b[1;33m(\u001b[0m\u001b[1;33m)\u001b[0m\u001b[1;33m\u001b[0m\u001b[1;33m\u001b[0m\u001b[0m\n\u001b[0;32m     15\u001b[0m \u001b[0mobj\u001b[0m\u001b[1;33m.\u001b[0m\u001b[0marea\u001b[0m\u001b[1;33m(\u001b[0m\u001b[0ml\u001b[0m\u001b[1;33m,\u001b[0m\u001b[0mb\u001b[0m\u001b[1;33m)\u001b[0m\u001b[1;33m\u001b[0m\u001b[1;33m\u001b[0m\u001b[0m\n\u001b[1;32m---> 16\u001b[1;33m \u001b[0mobj\u001b[0m\u001b[1;33m.\u001b[0m\u001b[0mvolume\u001b[0m\u001b[1;33m(\u001b[0m\u001b[0ml\u001b[0m\u001b[1;33m,\u001b[0m\u001b[0mb\u001b[0m\u001b[1;33m,\u001b[0m\u001b[0mh\u001b[0m\u001b[1;33m)\u001b[0m\u001b[1;33m\u001b[0m\u001b[1;33m\u001b[0m\u001b[0m\n\u001b[0m",
      "\u001b[1;32m~\\AppData\\Local\\Temp\\ipykernel_10736\\3047115105.py\u001b[0m in \u001b[0;36mvolume\u001b[1;34m(self, l, b, h)\u001b[0m\n\u001b[0;32m      6\u001b[0m     \u001b[1;32mdef\u001b[0m \u001b[0mvolume\u001b[0m\u001b[1;33m(\u001b[0m\u001b[0mself\u001b[0m\u001b[1;33m,\u001b[0m\u001b[0ml\u001b[0m\u001b[1;33m,\u001b[0m\u001b[0mb\u001b[0m\u001b[1;33m,\u001b[0m\u001b[0mh\u001b[0m\u001b[1;33m)\u001b[0m\u001b[1;33m:\u001b[0m\u001b[1;33m\u001b[0m\u001b[1;33m\u001b[0m\u001b[0m\n\u001b[0;32m      7\u001b[0m \u001b[1;33m\u001b[0m\u001b[0m\n\u001b[1;32m----> 8\u001b[1;33m         \u001b[0mv\u001b[0m\u001b[1;33m=\u001b[0m\u001b[0ma\u001b[0m\u001b[1;33m*\u001b[0m\u001b[0mh\u001b[0m\u001b[1;33m\u001b[0m\u001b[1;33m\u001b[0m\u001b[0m\n\u001b[0m\u001b[0;32m      9\u001b[0m         \u001b[0mprint\u001b[0m\u001b[1;33m(\u001b[0m\u001b[0mv\u001b[0m\u001b[1;33m)\u001b[0m\u001b[1;33m\u001b[0m\u001b[1;33m\u001b[0m\u001b[0m\n\u001b[0;32m     10\u001b[0m \u001b[1;33m\u001b[0m\u001b[0m\n",
      "\u001b[1;31mNameError\u001b[0m: name 'a' is not defined"
     ]
    }
   ],
   "source": [
    "class Area:\n",
    "    def area(self,l,b):\n",
    "        \n",
    "        a=l*b\n",
    "        return a\n",
    "    def volume(self,l,b,h):\n",
    "        \n",
    "        v=a*h\n",
    "        print(v)\n",
    "        \n",
    "l=20\n",
    "b=10 \n",
    "h=5\n",
    "obj = Area()\n",
    "obj.area(l,b)\n",
    "obj.volume(l,b,h)\n"
   ]
  },
  {
   "cell_type": "code",
   "execution_count": 25,
   "id": "69c28989",
   "metadata": {},
   "outputs": [
    {
     "name": "stdout",
     "output_type": "stream",
     "text": [
      "200\n",
      "1000\n"
     ]
    }
   ],
   "source": [
    "class Area:\n",
    "    def area(self,l,b):\n",
    "        \n",
    "        a=l*b\n",
    "        print(a)\n",
    "class Volume:\n",
    "    \n",
    "    def volume(self,l,b,h):\n",
    "        \n",
    "        v=l*b*h\n",
    "        print(v)\n",
    "        \n",
    "l=20\n",
    "b=10 \n",
    "h=5\n",
    "obj = Area()\n",
    "obj1=Volume()\n",
    "obj.area(l,b)\n",
    "obj1.volume(l,b,h)\n"
   ]
  },
  {
   "cell_type": "code",
   "execution_count": 29,
   "id": "900fc52e",
   "metadata": {},
   "outputs": [
    {
     "name": "stdout",
     "output_type": "stream",
     "text": [
      "200\n",
      "1000\n"
     ]
    }
   ],
   "source": [
    "class Area:\n",
    "    def __init__(self,l,b,h):\n",
    "        \n",
    "        self.l=l\n",
    "        self.b=b\n",
    "        self.h=h\n",
    "        \n",
    "    def area(self):\n",
    "        \n",
    "        a=self.l*self.b\n",
    "        print(a)\n",
    "\n",
    "    \n",
    "    def volume(self):\n",
    "        \n",
    "        v=self.l*self.b*self.h\n",
    "        print(v)\n",
    "        \n",
    "l=20\n",
    "b=10 \n",
    "h=5\n",
    "obj = Area(l,b,h)\n",
    "\n",
    "obj.area()\n",
    "obj.volume()"
   ]
  },
  {
   "cell_type": "code",
   "execution_count": 30,
   "id": "83b07d47",
   "metadata": {},
   "outputs": [
    {
     "name": "stdout",
     "output_type": "stream",
     "text": [
      "200\n",
      "1000\n"
     ]
    }
   ],
   "source": [
    "class Area:\n",
    "    def area(self,l,b):\n",
    "        \n",
    "        a=l*b\n",
    "        print(a)\n",
    "class Volume:\n",
    "    \n",
    "    def volume(self,l,b,h):\n",
    "        \n",
    "        v=l*b*h\n",
    "        print(v)\n",
    "        \n",
    "l=20\n",
    "b=10 \n",
    "h=5\n",
    "obj = Area()\n",
    "obj1=Volume()\n",
    "obj.area(l,b)\n",
    "obj1.volume(l,b,h)"
   ]
  },
  {
   "cell_type": "code",
   "execution_count": 34,
   "id": "63d7fb8c",
   "metadata": {},
   "outputs": [
    {
     "name": "stdout",
     "output_type": "stream",
     "text": [
      "I am ram and from btw\n"
     ]
    }
   ],
   "source": [
    "class Info:\n",
    "    def __init__(self,name,age,add):\n",
    "        self.name=name\n",
    "        self.age=age\n",
    "        self.add=add\n",
    "    def info(self):\n",
    "        return f\"I am {self.name} and from {self.add}\"\n",
    "name=\"ram\"\n",
    "age=22\n",
    "add=\"btw\"\n",
    "obj=Info(name,age,add)\n",
    "print(obj.info())"
   ]
  },
  {
   "cell_type": "code",
   "execution_count": null,
   "id": "53b05230",
   "metadata": {},
   "outputs": [],
   "source": [
    "#inheritance\n",
    "class Info:\n",
    "    def __init__(self):\n",
    "        \n",
    "        self.name=input(\"Enter the name:\")\n",
    "        self.age=int(input(\"Enter the age:\"))\n",
    "        self.add=input(\"Enter the address:\")\n",
    "                       \n",
    "class Data(Info):\n",
    "    def data(self):\n",
    "        print(f\"Hello,I am {self.name} I am from{self.add},I am {self.age}\")\n",
    "obj=Data()\n",
    "obj.data()                       \n",
    "                       \n",
    "                       "
   ]
  },
  {
   "cell_type": "code",
   "execution_count": null,
   "id": "5710f65a",
   "metadata": {},
   "outputs": [],
   "source": [
    "class Info:\n",
    "    def __init__(self, name, age, add):\n",
    "        \n",
    "        self.name=name\n",
    "        self.age=age\n",
    "        self.add=add\n",
    "                       \n",
    "class Data(Info):\n",
    "    def data(self,name,age ,add):\n",
    "        print(f\"Hello,I am {self.name} I am from{self.add},I am {self.age}\")\n",
    "        \n",
    "name=input(\"Enter the name:\")\n",
    "age=int(input(\"Enter the age:\"))\n",
    "add=input(\"Enter the address:\")\n",
    "\n",
    "obj=Data(name,age,add)\n",
    "obj.data() "
   ]
  },
  {
   "cell_type": "code",
   "execution_count": null,
   "id": "03cbd287",
   "metadata": {},
   "outputs": [],
   "source": [
    "class A:\n",
    "    pass\n",
    "class B(A):\n",
    "    pass\n",
    "class C(B):\n",
    "    pass\n",
    "obj = c()\n"
   ]
  },
  {
   "cell_type": "code",
   "execution_count": null,
   "id": "10f6b732",
   "metadata": {},
   "outputs": [],
   "source": [
    "class A:\n",
    "    pass\n",
    "class B:\n",
    "    pass\n",
    "class C(A,B):\n",
    "    pass\n",
    "obj = c()"
   ]
  },
  {
   "cell_type": "code",
   "execution_count": null,
   "id": "49c44bf8",
   "metadata": {},
   "outputs": [],
   "source": [
    "class Info:\n",
    "    def __init__(self, name, age, add):\n",
    "        \n",
    "        \n",
    "        self.add=add\n",
    "                       \n",
    "class Data(Info):\n",
    "    def data(self,name,age ,add):\n",
    "        print(f\"Hello,I am {self.name} I am from{self.add},I am {self.age}\")\n",
    "        \n",
    "name=input(\"Enter the name:\")\n",
    "age=int(input(\"Enter the age:\"))\n",
    "add=input(\"Enter the address:\")\n",
    "\n",
    "obj=Data(name,age,add)\n",
    "obj.data() "
   ]
  },
  {
   "cell_type": "code",
   "execution_count": null,
   "id": "318a6afe",
   "metadata": {},
   "outputs": [],
   "source": [
    "#Multiple inheritance\n",
    "class Add:\n",
    "    def __init__(self,  add):\n",
    "        self.add =add\n",
    "\n",
    "class Age:\n",
    "    def __init__(self,age):\n",
    "        self.age = age\n",
    "class Data(Add,Age):\n",
    "    def __init__(self,name,age,add):\n",
    "        self.name = name\n",
    "        Age.__init__(self,age)\n",
    "        Add.__init__(self,add)\n",
    "    def data(self):\n",
    "        print(f\"Hello,I am {self.name} I am from{self.add},I am {self.age}\")\n",
    "        \n",
    "name=input(\"Enter the name:\")\n",
    "age=int(input(\"Enter the age:\"))\n",
    "add=input(\"Enter the address:\")\n",
    "\n",
    "obj = Data(name,age,add)\n",
    "obj.data() "
   ]
  },
  {
   "cell_type": "code",
   "execution_count": 2,
   "id": "5052bb87",
   "metadata": {},
   "outputs": [
    {
     "name": "stdout",
     "output_type": "stream",
     "text": [
      "Ram\n",
      "34\n",
      "Bara\n"
     ]
    }
   ],
   "source": [
    "class Info:\n",
    "    \n",
    "    def __init__(self):\n",
    "        self.name =\"Ram\"\n",
    "        self.age =34\n",
    "        self.add=\"Bara\"\n",
    "obj =Info()        \n",
    "print(obj.name)\n",
    "print(obj.age)\n",
    "print(obj.add)\n",
    "\n",
    "\n"
   ]
  },
  {
   "cell_type": "code",
   "execution_count": 1,
   "id": "d44da0da",
   "metadata": {},
   "outputs": [
    {
     "name": "stdout",
     "output_type": "stream",
     "text": [
      "Ram\n",
      "34\n",
      "Bara\n"
     ]
    }
   ],
   "source": [
    "class Info:\n",
    "    \n",
    "    def __init__(self):\n",
    "        self._name =\"Ram\"\n",
    "        self._age =34\n",
    "        self._add=\"Bara\"\n",
    "obj =Info()        \n",
    "print(obj._name)\n",
    "print(obj._age)\n",
    "print(obj._add)"
   ]
  },
  {
   "cell_type": "code",
   "execution_count": null,
   "id": "0278e8a3",
   "metadata": {},
   "outputs": [],
   "source": [
    "class Info:\n",
    "    def __init__(self,  add):\n",
    "        \n",
    "        \n",
    "        self._add=add\n",
    "                       \n",
    "class Data(Info):\n",
    "    def data(self,name,age ,add):\n",
    "        print(f\"Hello,I am {self.name} I am from{self._add},I am {self.age}\")\n",
    "        \n",
    "name=input(\"Enter the name:\")\n",
    "age=int(input(\"Enter the age:\"))\n",
    "add=input(\"Enter the address:\")\n",
    "\n",
    "obj=Data(name,age,add)\n",
    "obj.data() "
   ]
  },
  {
   "cell_type": "code",
   "execution_count": null,
   "id": "f0d89df2",
   "metadata": {},
   "outputs": [],
   "source": [
    "class Info:\n",
    "    \n",
    "    def __init__(self):\n",
    "        self.name =\"Ram\"\n",
    "        self.age =34\n",
    "        self.add=\"Bara\"\n",
    "obj =Info()        \n",
    "print(obj.name)\n",
    "print(obj.age)\n",
    "print(obj.add)\n"
   ]
  },
  {
   "cell_type": "code",
   "execution_count": null,
   "id": "08805a88",
   "metadata": {},
   "outputs": [],
   "source": [
    "class Add:\n",
    "    def __init__(self,  add):\n",
    "        self.add =add\n",
    "    def add(self):\n",
    "        print(self.add)\n",
    "\n",
    "class Age:\n",
    "    def __init__(self,age):\n",
    "        self.age = age\n",
    "    def age(self):\n",
    "        print(self.age)\n",
    "class Data(Add,Age):\n",
    "    def __init__(self,name,age,add):\n",
    "        self.name = name\n",
    "        Age.__init__(self,age)\n",
    "        Add.__init__(self,add)\n",
    "    def data(self):\n",
    "        print(f\"Hello,I am {self.name} I am from{self.add},I am {self.age}\")\n",
    "        \n",
    "name=input(\"Enter the name:\")\n",
    "age=int(input(\"Enter the age:\"))\n",
    "add=input(\"Enter the address:\")\n",
    "\n",
    "obj = Data(name,age,add)\n",
    "obj.data() "
   ]
  },
  {
   "cell_type": "code",
   "execution_count": null,
   "id": "86766d2a",
   "metadata": {},
   "outputs": [],
   "source": [
    "#Function call use of one class function into another class:"
   ]
  },
  {
   "cell_type": "code",
   "execution_count": null,
   "id": "062a1a1c",
   "metadata": {},
   "outputs": [],
   "source": [
    "class Info:\n",
    "    def __init__(self,age,add):\n",
    "        self.age = age\n",
    "        self.add = add\n",
    "    def info(self):\n",
    "        print(self.age,self.add)\n",
    "        \n",
    "\n",
    "class Data(Info):\n",
    "    def __init__(self,name,age,add):\n",
    "        self.name = name\n",
    "        Info.__init__(self,age,add)\n",
    "    \n",
    "    def data(self):\n",
    "        print(f\"Hello World I am {self.name}. I am from {self.add}. I am {self.age}\")\n",
    "        super().info()\n",
    "\n",
    "name = input(\"Enter name = \")\n",
    "age = int(input(\"Enter age = \"))\n",
    "add = input(\"Enter add = \")\n",
    "obj = Data(name,age,add)\n",
    "obj.data()"
   ]
  },
  {
   "cell_type": "code",
   "execution_count": 1,
   "id": "128b9b9b",
   "metadata": {},
   "outputs": [
    {
     "name": "stdout",
     "output_type": "stream",
     "text": [
      "Ram\n"
     ]
    }
   ],
   "source": [
    "class Info:\n",
    "    \n",
    "    def __init__(self):\n",
    "        self.name =\"Ram\"\n",
    "        self.age =34\n",
    "        self.add=\"Bara\"\n",
    "    def __str__(self):\n",
    "        return self.name \n",
    "    \n",
    "obj =Info()\n",
    "print(obj)\n",
    "\n"
   ]
  },
  {
   "cell_type": "code",
   "execution_count": 9,
   "id": "379736f0",
   "metadata": {},
   "outputs": [
    {
     "name": "stdout",
     "output_type": "stream",
     "text": [
      "Hello World\n"
     ]
    }
   ],
   "source": [
    "#Decorators\n",
    "def outer_function(fun):\n",
    "    \n",
    "    def inner_function():\n",
    "        x=fun()\n",
    "    return inner_function()\n",
    "@outer_function\n",
    "def hello():\n",
    "    print('Hello World')\n",
    "\n"
   ]
  },
  {
   "cell_type": "code",
   "execution_count": 10,
   "id": "5d3aa178",
   "metadata": {},
   "outputs": [
    {
     "name": "stdout",
     "output_type": "stream",
     "text": [
      "Hello World\n"
     ]
    }
   ],
   "source": [
    "\n",
    "def outer_function(fun):\n",
    "    \n",
    "    def inner_function():\n",
    "        x=fun()\n",
    "    return inner_function()\n",
    "@outer_function\n",
    "def hello():\n",
    "    print('Hello World')\n",
    "\n"
   ]
  },
  {
   "cell_type": "code",
   "execution_count": null,
   "id": "78f98990",
   "metadata": {},
   "outputs": [],
   "source": []
  }
 ],
 "metadata": {
  "kernelspec": {
   "display_name": "Python 3 (ipykernel)",
   "language": "python",
   "name": "python3"
  },
  "language_info": {
   "codemirror_mode": {
    "name": "ipython",
    "version": 3
   },
   "file_extension": ".py",
   "mimetype": "text/x-python",
   "name": "python",
   "nbconvert_exporter": "python",
   "pygments_lexer": "ipython3",
   "version": "3.9.13"
  }
 },
 "nbformat": 4,
 "nbformat_minor": 5
}
