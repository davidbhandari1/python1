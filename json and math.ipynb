{
 "cells": [
  {
   "cell_type": "code",
   "execution_count": 20,
   "id": "ecf4a271",
   "metadata": {},
   "outputs": [
    {
     "name": "stdout",
     "output_type": "stream",
     "text": [
      "{'name': ['ram', 'shyam', 'Hari', 'gopal'], 'subject': ['enlish', 'Math', 'nepali', 'Science'], 'address': ['ktm', 'pkr', 'npj', 'btw']}\n"
     ]
    }
   ],
   "source": [
    "import json\n",
    "y='{ \"name\":[\"ram\",\"shyam\",\"Hari\",\"gopal\"],\"subject\":[\"enlish\",\"Math\",\"nepali\",\"Science\"],\"address\":[\"ktm\",\"pkr\",\"npj\",\"btw\"]}'\n",
    "\n",
    "x = json.loads(y)\n",
    "print(x)\n",
    "\n"
   ]
  },
  {
   "cell_type": "code",
   "execution_count": 1,
   "id": "af384892",
   "metadata": {},
   "outputs": [
    {
     "data": {
      "text/plain": [
       "'{ \"name\":[\"ram\",\"shyam\",\"Hari\",\"gopal\"],\"subject\":[\"enlish\",\"Math\",\"nepali\",\"Science\"],\"address\":[\"ktm\",\"pkr\",\"npj\",\"btw\"]}'"
      ]
     },
     "execution_count": 1,
     "metadata": {},
     "output_type": "execute_result"
    }
   ],
   "source": [
    "import json\n",
    "y='{ \"name\":[\"ram\",\"shyam\",\"Hari\",\"gopal\"],\"subject\":[\"enlish\",\"Math\",\"nepali\",\"Science\"],\"address\":[\"ktm\",\"pkr\",\"npj\",\"btw\"]}'\n",
    "dataty"
   ]
  },
  {
   "cell_type": "code",
   "execution_count": 9,
   "id": "654c2f28",
   "metadata": {},
   "outputs": [
    {
     "name": "stdout",
     "output_type": "stream",
     "text": [
      "{'name': 'John', 'age': 30, 'city': 'New York'}\n"
     ]
    }
   ],
   "source": [
    "import json\n",
    "\n",
    "# some JSON:\n",
    "x = '{ \"name\":\"John\", \"age\":30, \"city\":\"New York\"}'\n",
    "\n",
    "# parse x:\n",
    "y = json.loads(x)\n",
    "\n",
    "# the result is a Python dictionary:\n",
    "print(y)\n"
   ]
  },
  {
   "cell_type": "code",
   "execution_count": 23,
   "id": "9c4fc7f1",
   "metadata": {},
   "outputs": [
    {
     "name": "stdout",
     "output_type": "stream",
     "text": [
      "10 30\n"
     ]
    }
   ],
   "source": [
    "x=min([10,20,30])\n",
    "y=max([10,20,30])\n",
    "print(x,y)\n"
   ]
  },
  {
   "cell_type": "code",
   "execution_count": 26,
   "id": "d0b0683f",
   "metadata": {},
   "outputs": [
    {
     "data": {
      "text/plain": [
       "100"
      ]
     },
     "execution_count": 26,
     "metadata": {},
     "output_type": "execute_result"
    }
   ],
   "source": [
    "x=pow(10,2)\n",
    "x"
   ]
  },
  {
   "cell_type": "code",
   "execution_count": 34,
   "id": "e22e54c9",
   "metadata": {},
   "outputs": [
    {
     "name": "stdout",
     "output_type": "stream",
     "text": [
      "8.0 3.141592653589793\n"
     ]
    }
   ],
   "source": [
    "import math\n",
    "x=math.sqrt(64)\n",
    "y=math.pi\n",
    "\n",
    "print(x,y)\n"
   ]
  },
  {
   "cell_type": "code",
   "execution_count": null,
   "id": "046e8d2f",
   "metadata": {},
   "outputs": [],
   "source": []
  }
 ],
 "metadata": {
  "kernelspec": {
   "display_name": "Python 3 (ipykernel)",
   "language": "python",
   "name": "python3"
  },
  "language_info": {
   "codemirror_mode": {
    "name": "ipython",
    "version": 3
   },
   "file_extension": ".py",
   "mimetype": "text/x-python",
   "name": "python",
   "nbconvert_exporter": "python",
   "pygments_lexer": "ipython3",
   "version": "3.9.13"
  }
 },
 "nbformat": 4,
 "nbformat_minor": 5
}
